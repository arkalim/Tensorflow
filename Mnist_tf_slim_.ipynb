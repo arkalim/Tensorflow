{
  "nbformat": 4,
  "nbformat_minor": 0,
  "metadata": {
    "colab": {
      "name": "Mnist tf.slim .ipynb",
      "version": "0.3.2",
      "provenance": [],
      "collapsed_sections": [],
      "include_colab_link": true
    },
    "kernelspec": {
      "name": "python3",
      "display_name": "Python 3"
    },
    "accelerator": "GPU"
  },
  "cells": [
    {
      "cell_type": "markdown",
      "metadata": {
        "id": "view-in-github",
        "colab_type": "text"
      },
      "source": [
        "<a href=\"https://colab.research.google.com/github/arkalim/Tensorflow/blob/master/Mnist_tf_slim_.ipynb\" target=\"_parent\"><img src=\"https://colab.research.google.com/assets/colab-badge.svg\" alt=\"Open In Colab\"/></a>"
      ]
    },
    {
      "cell_type": "markdown",
      "metadata": {
        "id": "v4IMi5ffYmRp",
        "colab_type": "text"
      },
      "source": [
        "# CNN on MNIST dataset using TF\n",
        "## Importing necessary libraries and defining model parameters"
      ]
    },
    {
      "cell_type": "code",
      "metadata": {
        "id": "9IhswVnZCK08",
        "colab_type": "code",
        "colab": {}
      },
      "source": [
        "# Loading the required packages\n",
        "import tensorflow as tf \n",
        "import datetime, os\n",
        "import matplotlib.pyplot as plt \n",
        "import tensorflow.contrib.layers as layers\n",
        "from sklearn.preprocessing import MinMaxScaler\n",
        "slim = tf.contrib.slim\n",
        "\n",
        "# Empty lists for storing the loss and accuracy history\n",
        "train_loss = []\n",
        "train_acc = []\n",
        "validation_acc = []\n",
        "validation_loss = []\n",
        "\n",
        "# Parameters\n",
        "learning_rate = 0.001\n",
        "training_iters = 100\n",
        "batch_size = 1024\n",
        "display_step = 5"
      ],
      "execution_count": 0,
      "outputs": []
    },
    {
      "cell_type": "markdown",
      "metadata": {
        "id": "Hfu7CZKkXVFi",
        "colab_type": "text"
      },
      "source": [
        "# Data Preprocessing"
      ]
    },
    {
      "cell_type": "code",
      "metadata": {
        "id": "cjndAliqXT2i",
        "colab_type": "code",
        "outputId": "ae85be84-b5b2-47f1-f60c-8abfa46222df",
        "colab": {
          "base_uri": "https://localhost:8080/",
          "height": 624
        }
      },
      "source": [
        "# Now we load the mnist dataset\n",
        "# each handwritten digit is of the size 28*28 i.e. 784 pixels grayscale image\n",
        "from tensorflow.examples.tutorials.mnist import input_data\n",
        "from sklearn.preprocessing import MinMaxScaler\n",
        "\n",
        "# we use one hot encoding for labels\n",
        "mnist = input_data.read_data_sets(\"MNIST_data/\", one_hot=True)\n",
        "\n",
        "# 55000 examples with grayscale image of 784 pixels (images are already flattened)\n",
        "print(mnist.train.images.shape)\n",
        "# the labels are one hot encoded\n",
        "print(mnist.train.labels.shape)\n",
        "# 10000 test examples\n",
        "print(mnist.test.images.shape)\n",
        "print(mnist.test.labels.shape)\n",
        "\n",
        "# Fetch the validation data and normalize it\n",
        "# Training data will be normalized after fetching the batch of training data\n",
        "X_valid = mnist.test.images\n",
        "X_valid = MinMaxScaler(feature_range=(0, 1)).fit_transform(X_valid)\n",
        "Y_valid = mnist.test.labels\n",
        "\n",
        "# Network Parameters\n",
        "n_input = 784 # MNIST data input (img shape: 28*28)\n",
        "n_classes = 10 # MNIST total classes (0-9 digits)\n",
        "dropout = 0.85 # Dropout, probability to keep units"
      ],
      "execution_count": 0,
      "outputs": [
        {
          "output_type": "stream",
          "text": [
            "WARNING:tensorflow:From <ipython-input-2-fe677bffffbd>:5: read_data_sets (from tensorflow.contrib.learn.python.learn.datasets.mnist) is deprecated and will be removed in a future version.\n",
            "Instructions for updating:\n",
            "Please use alternatives such as official/mnist/dataset.py from tensorflow/models.\n",
            "WARNING:tensorflow:From /usr/local/lib/python3.6/dist-packages/tensorflow/contrib/learn/python/learn/datasets/mnist.py:260: maybe_download (from tensorflow.contrib.learn.python.learn.datasets.base) is deprecated and will be removed in a future version.\n",
            "Instructions for updating:\n",
            "Please write your own downloading logic.\n",
            "WARNING:tensorflow:From /usr/local/lib/python3.6/dist-packages/tensorflow/contrib/learn/python/learn/datasets/base.py:252: _internal_retry.<locals>.wrap.<locals>.wrapped_fn (from tensorflow.contrib.learn.python.learn.datasets.base) is deprecated and will be removed in a future version.\n",
            "Instructions for updating:\n",
            "Please use urllib or similar directly.\n",
            "Successfully downloaded train-images-idx3-ubyte.gz 9912422 bytes.\n",
            "WARNING:tensorflow:From /usr/local/lib/python3.6/dist-packages/tensorflow/contrib/learn/python/learn/datasets/mnist.py:262: extract_images (from tensorflow.contrib.learn.python.learn.datasets.mnist) is deprecated and will be removed in a future version.\n",
            "Instructions for updating:\n",
            "Please use tf.data to implement this functionality.\n",
            "Extracting MNIST_data/train-images-idx3-ubyte.gz\n",
            "Successfully downloaded train-labels-idx1-ubyte.gz 28881 bytes.\n",
            "WARNING:tensorflow:From /usr/local/lib/python3.6/dist-packages/tensorflow/contrib/learn/python/learn/datasets/mnist.py:267: extract_labels (from tensorflow.contrib.learn.python.learn.datasets.mnist) is deprecated and will be removed in a future version.\n",
            "Instructions for updating:\n",
            "Please use tf.data to implement this functionality.\n",
            "Extracting MNIST_data/train-labels-idx1-ubyte.gz\n",
            "WARNING:tensorflow:From /usr/local/lib/python3.6/dist-packages/tensorflow/contrib/learn/python/learn/datasets/mnist.py:110: dense_to_one_hot (from tensorflow.contrib.learn.python.learn.datasets.mnist) is deprecated and will be removed in a future version.\n",
            "Instructions for updating:\n",
            "Please use tf.one_hot on tensors.\n",
            "Successfully downloaded t10k-images-idx3-ubyte.gz 1648877 bytes.\n",
            "Extracting MNIST_data/t10k-images-idx3-ubyte.gz\n",
            "Successfully downloaded t10k-labels-idx1-ubyte.gz 4542 bytes.\n",
            "Extracting MNIST_data/t10k-labels-idx1-ubyte.gz\n",
            "WARNING:tensorflow:From /usr/local/lib/python3.6/dist-packages/tensorflow/contrib/learn/python/learn/datasets/mnist.py:290: DataSet.__init__ (from tensorflow.contrib.learn.python.learn.datasets.mnist) is deprecated and will be removed in a future version.\n",
            "Instructions for updating:\n",
            "Please use alternatives such as official/mnist/dataset.py from tensorflow/models.\n",
            "(55000, 784)\n",
            "(55000, 10)\n",
            "(10000, 784)\n",
            "(10000, 10)\n"
          ],
          "name": "stdout"
        }
      ]
    },
    {
      "cell_type": "markdown",
      "metadata": {
        "id": "BXcIAvO8XhQ1",
        "colab_type": "text"
      },
      "source": [
        "# Creating Computational Graph"
      ]
    },
    {
      "cell_type": "code",
      "metadata": {
        "id": "g_tSEmPwXmhx",
        "colab_type": "code",
        "outputId": "537fd294-e1cd-4309-c004-1c78035c2d07",
        "colab": {
          "base_uri": "https://localhost:8080/",
          "height": 286
        }
      },
      "source": [
        "def model(images):\n",
        "    \n",
        "    images = tf.reshape(images, shape=[-1, 28, 28, 1])\n",
        "    \n",
        "    net = slim.conv2d(images, 32, [5,5], scope='conv1')\n",
        "    net = slim.max_pool2d(net, [2,2], scope='pool1')\n",
        "    \n",
        "    net = slim.conv2d(net, 64, [5,5], scope='conv2')\n",
        "    net = slim.max_pool2d(net, [2,2], scope='pool2')\n",
        "    \n",
        "    net = slim.flatten(net, scope='flatten3')\n",
        "    net = slim.fully_connected(net, 512, scope='fc4')\n",
        "    net = slim.fully_connected(net, 10, activation_fn=None, scope='fc5')\n",
        "    return net\n",
        "   \n",
        "with tf.name_scope(\"Placeholders\"):    \n",
        "    # Defining the features and labels placeholders\n",
        "    X = tf.placeholder(tf.float32 ,shape = [None , 784] , name='X')\n",
        "    Y = tf.placeholder(tf.float32,shape = [None , 10], name='Y')\n",
        "    keep_prob = tf.placeholder(tf.float32)\n",
        "   \n",
        " \n",
        "# Create the CNN model\n",
        "# keep_prob is the probability to keep a node during training\n",
        "pred = model(X)\n",
        "\n",
        "with tf.name_scope(\"Loss\"):    \n",
        "    # Defining the loss function\n",
        "    loss = tf.reduce_mean(tf.nn.softmax_cross_entropy_with_logits(logits=pred, labels=Y))\n",
        "    tf.summary.scalar(\"Loss\",loss)\n",
        "\n",
        "with tf.name_scope(\"Optimizer\"):\n",
        "    # Defining the optimization function\n",
        "    optimizer = tf.train.AdamOptimizer(learning_rate=learning_rate).minimize(loss)\n",
        "\n",
        "with tf.name_scope(\"Accuracy\"):    \n",
        "    # The prediction is correct when Y equals pred\n",
        "    correct_prediction = tf.equal(tf.argmax(pred, 1), tf.argmax(Y, 1))\n",
        "\n",
        "    # Defining the accuracy\n",
        "    # Type casting the prediction to float value and averaging over the entire set\n",
        "    accuracy = tf.reduce_mean(tf.cast(correct_prediction, tf.float32))\n",
        "    tf.summary.scalar(\"Accuracy\",accuracy)\n",
        "\n",
        "with tf.name_scope(\"Initializer\"):    \n",
        "    # Defining the variable initialisation function\n",
        "    init = tf.global_variables_initializer()"
      ],
      "execution_count": 0,
      "outputs": [
        {
          "output_type": "stream",
          "text": [
            "WARNING:tensorflow:From /usr/local/lib/python3.6/dist-packages/tensorflow/python/framework/op_def_library.py:263: colocate_with (from tensorflow.python.framework.ops) is deprecated and will be removed in a future version.\n",
            "Instructions for updating:\n",
            "Colocations handled automatically by placer.\n",
            "WARNING:tensorflow:From /usr/local/lib/python3.6/dist-packages/tensorflow/contrib/layers/python/layers/layers.py:1624: flatten (from tensorflow.python.layers.core) is deprecated and will be removed in a future version.\n",
            "Instructions for updating:\n",
            "Use keras.layers.flatten instead.\n",
            "WARNING:tensorflow:From <ipython-input-3-3f805a16951a>:29: softmax_cross_entropy_with_logits (from tensorflow.python.ops.nn_ops) is deprecated and will be removed in a future version.\n",
            "Instructions for updating:\n",
            "\n",
            "Future major versions of TensorFlow will allow gradients to flow\n",
            "into the labels input on backprop by default.\n",
            "\n",
            "See `tf.nn.softmax_cross_entropy_with_logits_v2`.\n",
            "\n"
          ],
          "name": "stdout"
        }
      ]
    },
    {
      "cell_type": "markdown",
      "metadata": {
        "id": "NDJBNsCaYNkq",
        "colab_type": "text"
      },
      "source": [
        "# Training the model"
      ]
    },
    {
      "cell_type": "code",
      "metadata": {
        "colab_type": "code",
        "id": "maqA6SmXaDcG",
        "outputId": "f070cefe-fa85-45b1-8fba-6a9aeb2f3219",
        "colab": {
          "base_uri": "https://localhost:8080/",
          "height": 479
        }
      },
      "source": [
        "!pip install -q tf-nightly-2.0-preview\n",
        "# Load the TensorBoard notebook extension\n",
        "%load_ext tensorboard\n",
        "\n",
        "with tf.Session() as sess:\n",
        "    \n",
        "    # Initialise the variables\n",
        "    sess.run(init)\n",
        "    \n",
        "    # Clear any prior data in logs\n",
        "    !rm -rf 'logs'\n",
        "    \n",
        "    # create a train summary writer\n",
        "    train_writer = tf.summary.FileWriter('logs/train' , sess.graph)\n",
        "    \n",
        "    # create a valid summary writer\n",
        "    valid_writer = tf.summary.FileWriter('logs/valid' , sess.graph)\n",
        "    \n",
        "    # merge all the summaries\n",
        "    merged = tf.summary.merge_all()\n",
        "\n",
        "    # Load Tensorboard at the two directories\n",
        "    %tensorboard --logdir Train:'logs/train',Valid:'logs/valid'\n",
        "\n",
        "    for step in range(training_iters):\n",
        "        \n",
        "        # Fetching the next batch of data\n",
        "        batch_x, batch_y = mnist.train.next_batch(batch_size)\n",
        "        \n",
        "        # Normalising the data\n",
        "        batch_x = MinMaxScaler(feature_range=(0, 1)).fit_transform(batch_x)\n",
        "        \n",
        "        # Train our model on the batch of data\n",
        "        sess.run(optimizer, feed_dict={X : batch_x , Y : batch_y , keep_prob : dropout})\n",
        "        \n",
        "        # Displaying the loss and accuracy\n",
        "        if step % display_step == 0:\n",
        "            \n",
        "            # Evaluate the train loss and accuracy with no dropout\n",
        "            summary, loss_train, acc_train = sess.run([merged, loss , accuracy], feed_dict={X: batch_x,Y: batch_y,keep_prob: 1.0})\n",
        "            \n",
        "            # write the train summary for the current epoch\n",
        "            train_writer.add_summary(summary, step)\n",
        "            # flush the fliewriter to send the values to the file\n",
        "            train_writer.flush()\n",
        "    \n",
        "            # Evaluate the test accuracy with no dropout\n",
        "            summary, loss_valid, acc_valid = sess.run([merged, loss , accuracy], feed_dict={X: X_valid, Y: Y_valid,keep_prob: 1.0})\n",
        "            \n",
        "            # write the validation summary for the current epoch\n",
        "            valid_writer.add_summary(summary, step)\n",
        "            \n",
        "            # flush the fliewriter to send the values to the file\n",
        "            valid_writer.flush()\n",
        "            \n",
        "            print (\"Epoch \" + str(step) + \", Train Loss= \" + \"{:.2f}\".format(loss_train) + \", Training Accuracy= \" + \"{:.2f}\".format(acc_train) + \", Validation Loss= \" + \"{:.2f}\".format(loss_valid)+ \", Validation Accuracy:\" + \"{:.2f}\".format(acc_valid))\n",
        "    \n",
        "            # Append the data for plotting\n",
        "            train_loss.append(loss_train)\n",
        "            train_acc.append(acc_train)\n",
        "            validation_acc.append(acc_valid)\n",
        "            validation_loss.append(loss_valid)  "
      ],
      "execution_count": 0,
      "outputs": [
        {
          "output_type": "stream",
          "text": [
            "\u001b[K     |████████████████████████████████| 87.4MB 1.4MB/s \n",
            "\u001b[K     |████████████████████████████████| 61kB 20.7MB/s \n",
            "\u001b[K     |████████████████████████████████| 3.1MB 45.1MB/s \n",
            "\u001b[K     |████████████████████████████████| 440kB 44.0MB/s \n",
            "\u001b[?25h  Building wheel for wrapt (setup.py) ... \u001b[?25l\u001b[?25hdone\n",
            "\u001b[31mERROR: thinc 6.12.1 has requirement wrapt<1.11.0,>=1.10.0, but you'll have wrapt 1.11.1 which is incompatible.\u001b[0m\n"
          ],
          "name": "stdout"
        },
        {
          "output_type": "display_data",
          "data": {
            "text/html": [
              "\n",
              "    <div id=\"root\"></div>\n",
              "    <script>\n",
              "      (function() {\n",
              "        window.TENSORBOARD_ENV = window.TENSORBOARD_ENV || {};\n",
              "        window.TENSORBOARD_ENV[\"IN_COLAB\"] = true;\n",
              "        document.querySelector(\"base\").href = \"https://localhost:6006\";\n",
              "        function fixUpTensorboard(root) {\n",
              "          const tftb = root.querySelector(\"tf-tensorboard\");\n",
              "          // Disable the fragment manipulation behavior in Colab. Not\n",
              "          // only is the behavior not useful (as the iframe's location\n",
              "          // is not visible to the user), it causes TensorBoard's usage\n",
              "          // of `window.replace` to navigate away from the page and to\n",
              "          // the `localhost:<port>` URL specified by the base URI, which\n",
              "          // in turn causes the frame to (likely) crash.\n",
              "          tftb.removeAttribute(\"use-hash\");\n",
              "        }\n",
              "        function executeAllScripts(root) {\n",
              "          // When `script` elements are inserted into the DOM by\n",
              "          // assigning to an element's `innerHTML`, the scripts are not\n",
              "          // executed. Thus, we manually re-insert these scripts so that\n",
              "          // TensorBoard can initialize itself.\n",
              "          for (const script of root.querySelectorAll(\"script\")) {\n",
              "            const newScript = document.createElement(\"script\");\n",
              "            newScript.type = script.type;\n",
              "            newScript.textContent = script.textContent;\n",
              "            root.appendChild(newScript);\n",
              "            script.remove();\n",
              "          }\n",
              "        }\n",
              "        function setHeight(root, height) {\n",
              "          // We set the height dynamically after the TensorBoard UI has\n",
              "          // been initialized. This avoids an intermediate state in\n",
              "          // which the container plus the UI become taller than the\n",
              "          // final width and cause the Colab output frame to be\n",
              "          // permanently resized, eventually leading to an empty\n",
              "          // vertical gap below the TensorBoard UI. It's not clear\n",
              "          // exactly what causes this problematic intermediate state,\n",
              "          // but setting the height late seems to fix it.\n",
              "          root.style.height = `${height}px`;\n",
              "        }\n",
              "        const root = document.getElementById(\"root\");\n",
              "        fetch(\".\")\n",
              "          .then((x) => x.text())\n",
              "          .then((html) => void (root.innerHTML = html))\n",
              "          .then(() => fixUpTensorboard(root))\n",
              "          .then(() => executeAllScripts(root))\n",
              "          .then(() => setHeight(root, 800));\n",
              "      })();\n",
              "    </script>\n",
              "  "
            ],
            "text/plain": [
              "<IPython.core.display.HTML object>"
            ]
          },
          "metadata": {
            "tags": []
          }
        },
        {
          "output_type": "stream",
          "text": [
            "Epoch 0, Train Loss= 2.14, Training Accuracy= 0.43, Validation Loss= 2.15, Validation Accuracy:0.41\n",
            "Epoch 5, Train Loss= 0.91, Training Accuracy= 0.78, Validation Loss= 0.90, Validation Accuracy:0.78\n",
            "Epoch 10, Train Loss= 0.46, Training Accuracy= 0.85, Validation Loss= 0.45, Validation Accuracy:0.87\n",
            "Epoch 15, Train Loss= 0.43, Training Accuracy= 0.87, Validation Loss= 0.41, Validation Accuracy:0.88\n",
            "Epoch 20, Train Loss= 0.35, Training Accuracy= 0.91, Validation Loss= 0.32, Validation Accuracy:0.91\n",
            "Epoch 25, Train Loss= 0.30, Training Accuracy= 0.92, Validation Loss= 0.25, Validation Accuracy:0.93\n",
            "Epoch 30, Train Loss= 0.26, Training Accuracy= 0.93, Validation Loss= 0.23, Validation Accuracy:0.94\n",
            "Epoch 35, Train Loss= 0.23, Training Accuracy= 0.94, Validation Loss= 0.20, Validation Accuracy:0.94\n",
            "Epoch 40, Train Loss= 0.18, Training Accuracy= 0.95, Validation Loss= 0.17, Validation Accuracy:0.95\n",
            "Epoch 45, Train Loss= 0.16, Training Accuracy= 0.95, Validation Loss= 0.15, Validation Accuracy:0.95\n",
            "Epoch 50, Train Loss= 0.14, Training Accuracy= 0.95, Validation Loss= 0.14, Validation Accuracy:0.96\n",
            "Epoch 55, Train Loss= 0.16, Training Accuracy= 0.96, Validation Loss= 0.12, Validation Accuracy:0.96\n",
            "Epoch 60, Train Loss= 0.12, Training Accuracy= 0.96, Validation Loss= 0.11, Validation Accuracy:0.97\n",
            "Epoch 65, Train Loss= 0.12, Training Accuracy= 0.97, Validation Loss= 0.11, Validation Accuracy:0.97\n",
            "Epoch 70, Train Loss= 0.10, Training Accuracy= 0.97, Validation Loss= 0.10, Validation Accuracy:0.97\n",
            "Epoch 75, Train Loss= 0.08, Training Accuracy= 0.97, Validation Loss= 0.08, Validation Accuracy:0.97\n",
            "Epoch 80, Train Loss= 0.10, Training Accuracy= 0.98, Validation Loss= 0.08, Validation Accuracy:0.98\n",
            "Epoch 85, Train Loss= 0.10, Training Accuracy= 0.97, Validation Loss= 0.08, Validation Accuracy:0.98\n",
            "Epoch 90, Train Loss= 0.09, Training Accuracy= 0.97, Validation Loss= 0.07, Validation Accuracy:0.98\n",
            "Epoch 95, Train Loss= 0.06, Training Accuracy= 0.98, Validation Loss= 0.07, Validation Accuracy:0.98\n"
          ],
          "name": "stdout"
        }
      ]
    },
    {
      "cell_type": "markdown",
      "metadata": {
        "id": "vBNCfxaFYRht",
        "colab_type": "text"
      },
      "source": [
        "# Plotting the results"
      ]
    },
    {
      "cell_type": "code",
      "metadata": {
        "id": "kYJUavMUYWf6",
        "colab_type": "code",
        "outputId": "b7d32951-c447-44d2-a129-f199c691bf28",
        "colab": {
          "base_uri": "https://localhost:8080/",
          "height": 281
        }
      },
      "source": [
        "plt.subplot(1,2,1)\n",
        "plt.title(\"Loss Curve\")\n",
        "plt.plot(train_loss, 'r', label='Training Loss')\n",
        "plt.plot(validation_loss,  'c', label='Validation Loss')\n",
        "plt.legend()\n",
        "\n",
        "plt.subplot(1,2,2)\n",
        "plt.title(\"Accuracy Curve\")\n",
        "plt.plot(train_acc, 'r', label='Training Loss')\n",
        "plt.plot(validation_acc, 'c', label='Validation Loss')\n",
        "plt.legend()\n",
        "\n",
        "plt.show()       "
      ],
      "execution_count": 0,
      "outputs": [
        {
          "output_type": "display_data",
          "data": {
            "image/png": "[encoded data removed]",
            "text/plain": [
              "<Figure size 432x288 with 2 Axes>"
            ]
          },
          "metadata": {
            "tags": []
          }
        }
      ]
    }
  ]
}