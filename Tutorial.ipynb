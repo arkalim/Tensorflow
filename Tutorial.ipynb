{
  "nbformat": 4,
  "nbformat_minor": 0,
  "metadata": {
    "colab": {
      "name": "Tutorial.ipynb",
      "version": "0.3.2",
      "provenance": [],
      "collapsed_sections": [],
      "include_colab_link": true
    },
    "kernelspec": {
      "name": "python3",
      "display_name": "Python 3"
    },
    "accelerator": "GPU"
  },
  "cells": [
    {
      "cell_type": "markdown",
      "metadata": {
        "id": "view-in-github",
        "colab_type": "text"
      },
      "source": [
        "<a href=\"https://colab.research.google.com/github/arkalim/Tensorflow/blob/master/Tutorial.ipynb\" target=\"_parent\"><img src=\"https://colab.research.google.com/assets/colab-badge.svg\" alt=\"Open In Colab\"/></a>"
      ]
    },
    {
      "cell_type": "code",
      "metadata": {
        "id": "19HvFXDmErF1",
        "colab_type": "code",
        "colab": {}
      },
      "source": [
        "import torch\n",
        "import numpy as np"
      ],
      "execution_count": 0,
      "outputs": []
    },
    {
      "cell_type": "markdown",
      "metadata": {
        "id": "HFcWXGu5FBWf",
        "colab_type": "text"
      },
      "source": [
        "### # Define a tensor"
      ]
    },
    {
      "cell_type": "code",
      "metadata": {
        "id": "ldT55kXQEVON",
        "colab_type": "code",
        "outputId": "7864b07b-cdcb-4df4-cef6-c72cb2b11f75",
        "colab": {
          "base_uri": "https://localhost:8080/",
          "height": 52
        }
      },
      "source": [
        "t = torch.Tensor()\n",
        "\n",
        "print(t)\n",
        "print(type(t))"
      ],
      "execution_count": 2,
      "outputs": [
        {
          "output_type": "stream",
          "text": [
            "tensor([])\n",
            "<class 'torch.Tensor'>\n"
          ],
          "name": "stdout"
        }
      ]
    },
    {
      "cell_type": "markdown",
      "metadata": {
        "id": "oC73rMWGE-mR",
        "colab_type": "text"
      },
      "source": [
        "This creates an empty tensor (tensor with no data), but we'll get to adding data in just a moment.\n",
        "\n",
        "### Tensor attributes\n",
        "First, let’s look at a few tensor attributes. Every torch.Tensor has these attributes:\n",
        "\n",
        "* torch.dtype\n",
        "* torch.device\n",
        "* torch.layout (specifies how tensors are stored in the memory)"
      ]
    },
    {
      "cell_type": "code",
      "metadata": {
        "id": "6nkGeh6mEnEk",
        "colab_type": "code",
        "outputId": "eda9bf26-d21e-46ec-860a-3130c7e8db41",
        "colab": {
          "base_uri": "https://localhost:8080/",
          "height": 69
        }
      },
      "source": [
        "print(t.dtype)\n",
        "print(t.device)\n",
        "print(t.layout)"
      ],
      "execution_count": 3,
      "outputs": [
        {
          "output_type": "stream",
          "text": [
            "torch.float32\n",
            "cpu\n",
            "torch.strided\n"
          ],
          "name": "stdout"
        }
      ]
    },
    {
      "cell_type": "markdown",
      "metadata": {
        "id": "eBmeBl_dFtCi",
        "colab_type": "text"
      },
      "source": [
        "One thing to keep in mind about tensor data types is that tensor operations between tensors must happen between tensors with the same type of data.\n",
        "\n",
        "### Tensors have a torch.device\n",
        "The device, cpu in our case, specifies the device (CPU or GPU) where the tensor's data is allocated. This determines where tensor computations for the given tensor will be performed.\n",
        "\n",
        "**Note:** One thing to keep in mind about using multiple devices is that tensor operations between tensors must happen between tensors that exists on the same device."
      ]
    },
    {
      "cell_type": "code",
      "metadata": {
        "id": "BALnBpItF6za",
        "colab_type": "code",
        "outputId": "c5a1ce62-79df-43b4-8400-0a0ee5d21990",
        "colab": {
          "base_uri": "https://localhost:8080/",
          "height": 35
        }
      },
      "source": [
        "device = torch.device('cuda:0')\n",
        "print(device)"
      ],
      "execution_count": 4,
      "outputs": [
        {
          "output_type": "stream",
          "text": [
            "cuda:0\n"
          ],
          "name": "stdout"
        }
      ]
    },
    {
      "cell_type": "markdown",
      "metadata": {
        "id": "AaolUDBoI1vN",
        "colab_type": "text"
      },
      "source": [
        "## Creating tensors using data\n",
        "These are the primary ways of creating tensor objects (instances of the torch.Tensor class), with data (array-like) in PyTorch:"
      ]
    },
    {
      "cell_type": "code",
      "metadata": {
        "id": "k0O1KCwAI3dD",
        "colab_type": "code",
        "outputId": "17dc7733-df1a-4968-f79b-e790311d17df",
        "colab": {
          "base_uri": "https://localhost:8080/",
          "height": 35
        }
      },
      "source": [
        "data = np.array([1,2,3])\n",
        "type(data)"
      ],
      "execution_count": 5,
      "outputs": [
        {
          "output_type": "execute_result",
          "data": {
            "text/plain": [
              "numpy.ndarray"
            ]
          },
          "metadata": {
            "tags": []
          },
          "execution_count": 5
        }
      ]
    },
    {
      "cell_type": "code",
      "metadata": {
        "id": "Y4NdtJiDJJHh",
        "colab_type": "code",
        "outputId": "ab0bf4b1-dcb6-4096-f4f1-cc1d3a05cee7",
        "colab": {
          "base_uri": "https://localhost:8080/",
          "height": 35
        }
      },
      "source": [
        "# creating tensors using constructors\n",
        "torch.Tensor(data)"
      ],
      "execution_count": 6,
      "outputs": [
        {
          "output_type": "execute_result",
          "data": {
            "text/plain": [
              "tensor([1., 2., 3.])"
            ]
          },
          "metadata": {
            "tags": []
          },
          "execution_count": 6
        }
      ]
    },
    {
      "cell_type": "markdown",
      "metadata": {
        "id": "C-8OsKYVLHYo",
        "colab_type": "text"
      },
      "source": [
        "### # creating tensors using factory function"
      ]
    },
    {
      "cell_type": "code",
      "metadata": {
        "id": "pM_vs_5dJRnf",
        "colab_type": "code",
        "outputId": "25b1d65f-b7bb-46f8-d05c-6e879173cf89",
        "colab": {
          "base_uri": "https://localhost:8080/",
          "height": 35
        }
      },
      "source": [
        "torch.tensor(data)"
      ],
      "execution_count": 7,
      "outputs": [
        {
          "output_type": "execute_result",
          "data": {
            "text/plain": [
              "tensor([1, 2, 3])"
            ]
          },
          "metadata": {
            "tags": []
          },
          "execution_count": 7
        }
      ]
    },
    {
      "cell_type": "code",
      "metadata": {
        "id": "eemaLWNRJUQL",
        "colab_type": "code",
        "outputId": "deca14f3-b9d8-4b4e-df69-ddbcc5748c31",
        "colab": {
          "base_uri": "https://localhost:8080/",
          "height": 35
        }
      },
      "source": [
        "torch.as_tensor(data)"
      ],
      "execution_count": 8,
      "outputs": [
        {
          "output_type": "execute_result",
          "data": {
            "text/plain": [
              "tensor([1, 2, 3])"
            ]
          },
          "metadata": {
            "tags": []
          },
          "execution_count": 8
        }
      ]
    },
    {
      "cell_type": "code",
      "metadata": {
        "id": "-LE-O9zfJWdR",
        "colab_type": "code",
        "outputId": "6d2b4f8d-69fd-4f05-f3eb-9d03250a1d14",
        "colab": {
          "base_uri": "https://localhost:8080/",
          "height": 35
        }
      },
      "source": [
        "torch.from_numpy(data)"
      ],
      "execution_count": 9,
      "outputs": [
        {
          "output_type": "execute_result",
          "data": {
            "text/plain": [
              "tensor([1, 2, 3])"
            ]
          },
          "metadata": {
            "tags": []
          },
          "execution_count": 9
        }
      ]
    },
    {
      "cell_type": "markdown",
      "metadata": {
        "id": "nnFzpgJ9JzYP",
        "colab_type": "text"
      },
      "source": [
        "### Identity tensor"
      ]
    },
    {
      "cell_type": "code",
      "metadata": {
        "id": "0nXcC-6LJy19",
        "colab_type": "code",
        "outputId": "5959f026-dbb5-416b-a95d-2e27f89c339f",
        "colab": {
          "base_uri": "https://localhost:8080/",
          "height": 69
        }
      },
      "source": [
        "torch.eye(3)"
      ],
      "execution_count": 10,
      "outputs": [
        {
          "output_type": "execute_result",
          "data": {
            "text/plain": [
              "tensor([[1., 0., 0.],\n",
              "        [0., 1., 0.],\n",
              "        [0., 0., 1.]])"
            ]
          },
          "metadata": {
            "tags": []
          },
          "execution_count": 10
        }
      ]
    },
    {
      "cell_type": "markdown",
      "metadata": {
        "id": "hCuJwTbNJ-b_",
        "colab_type": "text"
      },
      "source": [
        "### Other tensors"
      ]
    },
    {
      "cell_type": "code",
      "metadata": {
        "id": "3BX57J2bKA1h",
        "colab_type": "code",
        "outputId": "965af2ea-49c7-47da-853f-229efbd20548",
        "colab": {
          "base_uri": "https://localhost:8080/",
          "height": 69
        }
      },
      "source": [
        "torch.zeros(3,4)"
      ],
      "execution_count": 11,
      "outputs": [
        {
          "output_type": "execute_result",
          "data": {
            "text/plain": [
              "tensor([[0., 0., 0., 0.],\n",
              "        [0., 0., 0., 0.],\n",
              "        [0., 0., 0., 0.]])"
            ]
          },
          "metadata": {
            "tags": []
          },
          "execution_count": 11
        }
      ]
    },
    {
      "cell_type": "code",
      "metadata": {
        "id": "fPWfiEZbKOOd",
        "colab_type": "code",
        "outputId": "12d554a7-e4f8-4782-868a-429b030ebbae",
        "colab": {
          "base_uri": "https://localhost:8080/",
          "height": 87
        }
      },
      "source": [
        "torch.ones(4,3)"
      ],
      "execution_count": 12,
      "outputs": [
        {
          "output_type": "execute_result",
          "data": {
            "text/plain": [
              "tensor([[1., 1., 1.],\n",
              "        [1., 1., 1.],\n",
              "        [1., 1., 1.],\n",
              "        [1., 1., 1.]])"
            ]
          },
          "metadata": {
            "tags": []
          },
          "execution_count": 12
        }
      ]
    },
    {
      "cell_type": "code",
      "metadata": {
        "id": "gLAHGlndKRbW",
        "colab_type": "code",
        "outputId": "fc20ee9a-e325-4ed7-ce6a-287320dab026",
        "colab": {
          "base_uri": "https://localhost:8080/",
          "height": 35
        }
      },
      "source": [
        "torch.rand(3)"
      ],
      "execution_count": 13,
      "outputs": [
        {
          "output_type": "execute_result",
          "data": {
            "text/plain": [
              "tensor([0.0265, 0.8900, 0.0895])"
            ]
          },
          "metadata": {
            "tags": []
          },
          "execution_count": 13
        }
      ]
    },
    {
      "cell_type": "markdown",
      "metadata": {
        "id": "cZa_9FDrLehF",
        "colab_type": "text"
      },
      "source": [
        "# Creating tensors from data"
      ]
    },
    {
      "cell_type": "code",
      "metadata": {
        "id": "_QXkM2ROLkzw",
        "colab_type": "code",
        "outputId": "54a301e0-8b4b-48ef-b8f1-376419865a28",
        "colab": {
          "base_uri": "https://localhost:8080/",
          "height": 35
        }
      },
      "source": [
        "torch.tensor(np.array([1,2,3]))"
      ],
      "execution_count": 14,
      "outputs": [
        {
          "output_type": "execute_result",
          "data": {
            "text/plain": [
              "tensor([1, 2, 3])"
            ]
          },
          "metadata": {
            "tags": []
          },
          "execution_count": 14
        }
      ]
    },
    {
      "cell_type": "code",
      "metadata": {
        "id": "JJkePKaRLryC",
        "colab_type": "code",
        "outputId": "d5bc10cc-4bc9-4955-87b3-0fe6f96dc9ef",
        "colab": {
          "base_uri": "https://localhost:8080/",
          "height": 35
        }
      },
      "source": [
        "torch.tensor(np.array([1.,2.,3.]))"
      ],
      "execution_count": 15,
      "outputs": [
        {
          "output_type": "execute_result",
          "data": {
            "text/plain": [
              "tensor([1., 2., 3.], dtype=torch.float64)"
            ]
          },
          "metadata": {
            "tags": []
          },
          "execution_count": 15
        }
      ]
    },
    {
      "cell_type": "code",
      "metadata": {
        "id": "qgyE9nh-LxTL",
        "colab_type": "code",
        "outputId": "99a858b3-146d-45d4-93ea-4b6132781f95",
        "colab": {
          "base_uri": "https://localhost:8080/",
          "height": 35
        }
      },
      "source": [
        "torch.tensor(np.array([1,2,3]), dtype = torch.float32)"
      ],
      "execution_count": 16,
      "outputs": [
        {
          "output_type": "execute_result",
          "data": {
            "text/plain": [
              "tensor([1., 2., 3.])"
            ]
          },
          "metadata": {
            "tags": []
          },
          "execution_count": 16
        }
      ]
    },
    {
      "cell_type": "markdown",
      "metadata": {
        "id": "2jdLDUZhM48F",
        "colab_type": "text"
      },
      "source": [
        "## Memory Sharing and Copying between the data and the tensor"
      ]
    },
    {
      "cell_type": "code",
      "metadata": {
        "id": "yHj2IIH5M4mT",
        "colab_type": "code",
        "outputId": "966b0952-943f-4abb-be15-f5975ff80dd6",
        "colab": {
          "base_uri": "https://localhost:8080/",
          "height": 35
        }
      },
      "source": [
        "data = np.array([1,2,3])\n",
        "data"
      ],
      "execution_count": 17,
      "outputs": [
        {
          "output_type": "execute_result",
          "data": {
            "text/plain": [
              "array([1, 2, 3])"
            ]
          },
          "metadata": {
            "tags": []
          },
          "execution_count": 17
        }
      ]
    },
    {
      "cell_type": "code",
      "metadata": {
        "id": "RHEXKyeUNHXA",
        "colab_type": "code",
        "colab": {}
      },
      "source": [
        "t1 = torch.Tensor(data)\n",
        "t2 = torch.tensor(data)\n",
        "t3 = torch.as_tensor(data)\n",
        "t4 = torch.from_numpy(data)"
      ],
      "execution_count": 0,
      "outputs": []
    },
    {
      "cell_type": "markdown",
      "metadata": {
        "id": "mTa_hm4JOZvl",
        "colab_type": "text"
      },
      "source": [
        "Modifying the  data but not the tensor"
      ]
    },
    {
      "cell_type": "code",
      "metadata": {
        "id": "b_1KseCMNxjN",
        "colab_type": "code",
        "colab": {}
      },
      "source": [
        "data[0] = 0\n",
        "data[1] = 0\n",
        "data[2] = 0"
      ],
      "execution_count": 0,
      "outputs": []
    },
    {
      "cell_type": "code",
      "metadata": {
        "id": "5c9z294yN01K",
        "colab_type": "code",
        "outputId": "f9ddbc74-d30c-4e8a-c85b-d9f59e35ea0e",
        "colab": {
          "base_uri": "https://localhost:8080/",
          "height": 87
        }
      },
      "source": [
        "print(t1)\n",
        "print(t2)\n",
        "print(t3)\n",
        "print(t4)"
      ],
      "execution_count": 20,
      "outputs": [
        {
          "output_type": "stream",
          "text": [
            "tensor([1., 2., 3.])\n",
            "tensor([1, 2, 3])\n",
            "tensor([0, 0, 0])\n",
            "tensor([0, 0, 0])\n"
          ],
          "name": "stdout"
        }
      ]
    },
    {
      "cell_type": "markdown",
      "metadata": {
        "id": "zb2A9sPYOnss",
        "colab_type": "text"
      },
      "source": [
        "This concludes that 1st two methods create a copy of the data, whereas the last two methods share the same memory for both data and tensor which means the code will run faster since no copying is needed.\n",
        "\n",
        "## Flatten, Reshape and Squeeze Explained"
      ]
    },
    {
      "cell_type": "code",
      "metadata": {
        "id": "o7hAk__aPyYB",
        "colab_type": "code",
        "colab": {}
      },
      "source": [
        "t = torch.tensor([\n",
        "    [1,1,1,1],\n",
        "    [2,2,2,2],\n",
        "    [3,3,3,3]\n",
        "], dtype=torch.float32)"
      ],
      "execution_count": 0,
      "outputs": []
    },
    {
      "cell_type": "code",
      "metadata": {
        "id": "n-SQ2b_WRAYK",
        "colab_type": "code",
        "outputId": "95e661dc-a44b-4b91-9857-7ab055f11ec2",
        "colab": {
          "base_uri": "https://localhost:8080/",
          "height": 35
        }
      },
      "source": [
        "t.shape"
      ],
      "execution_count": 22,
      "outputs": [
        {
          "output_type": "execute_result",
          "data": {
            "text/plain": [
              "torch.Size([3, 4])"
            ]
          },
          "metadata": {
            "tags": []
          },
          "execution_count": 22
        }
      ]
    },
    {
      "cell_type": "code",
      "metadata": {
        "id": "w6MH0dc_RDcc",
        "colab_type": "code",
        "outputId": "98e8f9cd-3737-4247-aae8-1d1e40fb5b5c",
        "colab": {
          "base_uri": "https://localhost:8080/",
          "height": 35
        }
      },
      "source": [
        "t.size()"
      ],
      "execution_count": 23,
      "outputs": [
        {
          "output_type": "execute_result",
          "data": {
            "text/plain": [
              "torch.Size([3, 4])"
            ]
          },
          "metadata": {
            "tags": []
          },
          "execution_count": 23
        }
      ]
    },
    {
      "cell_type": "code",
      "metadata": {
        "id": "huCGcIqPRNER",
        "colab_type": "code",
        "outputId": "8bc078df-7771-4c5e-8060-e13fc9686001",
        "colab": {
          "base_uri": "https://localhost:8080/",
          "height": 35
        }
      },
      "source": [
        "# find number of elements in the tensor\n",
        "t.numel()"
      ],
      "execution_count": 24,
      "outputs": [
        {
          "output_type": "execute_result",
          "data": {
            "text/plain": [
              "12"
            ]
          },
          "metadata": {
            "tags": []
          },
          "execution_count": 24
        }
      ]
    },
    {
      "cell_type": "code",
      "metadata": {
        "id": "UUxy7mtkRVUd",
        "colab_type": "code",
        "outputId": "4fbe6f4c-cc1f-41cd-c43f-839d94c8c3f9",
        "colab": {
          "base_uri": "https://localhost:8080/",
          "height": 35
        }
      },
      "source": [
        "# find no. of axes\n",
        "len(t.shape)"
      ],
      "execution_count": 25,
      "outputs": [
        {
          "output_type": "execute_result",
          "data": {
            "text/plain": [
              "2"
            ]
          },
          "metadata": {
            "tags": []
          },
          "execution_count": 25
        }
      ]
    },
    {
      "cell_type": "code",
      "metadata": {
        "id": "oeQalBvzRn5d",
        "colab_type": "code",
        "outputId": "d9c8056e-8003-46f4-d311-843d8f4e0163",
        "colab": {
          "base_uri": "https://localhost:8080/",
          "height": 35
        }
      },
      "source": [
        "t.reshape(-1)"
      ],
      "execution_count": 26,
      "outputs": [
        {
          "output_type": "execute_result",
          "data": {
            "text/plain": [
              "tensor([1., 1., 1., 1., 2., 2., 2., 2., 3., 3., 3., 3.])"
            ]
          },
          "metadata": {
            "tags": []
          },
          "execution_count": 26
        }
      ]
    },
    {
      "cell_type": "code",
      "metadata": {
        "id": "nJ3LVRQsRsro",
        "colab_type": "code",
        "outputId": "45cf4122-95c1-4551-95d6-37bca4e0a037",
        "colab": {
          "base_uri": "https://localhost:8080/",
          "height": 121
        }
      },
      "source": [
        "t.reshape(-1,2)"
      ],
      "execution_count": 27,
      "outputs": [
        {
          "output_type": "execute_result",
          "data": {
            "text/plain": [
              "tensor([[1., 1.],\n",
              "        [1., 1.],\n",
              "        [2., 2.],\n",
              "        [2., 2.],\n",
              "        [3., 3.],\n",
              "        [3., 3.]])"
            ]
          },
          "metadata": {
            "tags": []
          },
          "execution_count": 27
        }
      ]
    },
    {
      "cell_type": "code",
      "metadata": {
        "id": "czsw9A4uR6Y0",
        "colab_type": "code",
        "outputId": "5bcc27aa-18d0-4cfb-f006-33432e580d27",
        "colab": {
          "base_uri": "https://localhost:8080/",
          "height": 104
        }
      },
      "source": [
        "t.reshape(2,2,3)"
      ],
      "execution_count": 28,
      "outputs": [
        {
          "output_type": "execute_result",
          "data": {
            "text/plain": [
              "tensor([[[1., 1., 1.],\n",
              "         [1., 2., 2.]],\n",
              "\n",
              "        [[2., 2., 3.],\n",
              "         [3., 3., 3.]]])"
            ]
          },
          "metadata": {
            "tags": []
          },
          "execution_count": 28
        }
      ]
    },
    {
      "cell_type": "code",
      "metadata": {
        "id": "VsgFdW3bSAFh",
        "colab_type": "code",
        "outputId": "e427795e-d46c-40fe-acd7-e26f63c5e208",
        "colab": {
          "base_uri": "https://localhost:8080/",
          "height": 35
        }
      },
      "source": [
        "# squeeze removes the axis with length of 1\n",
        "t.reshape(1,12).squeeze()"
      ],
      "execution_count": 29,
      "outputs": [
        {
          "output_type": "execute_result",
          "data": {
            "text/plain": [
              "tensor([1., 1., 1., 1., 2., 2., 2., 2., 3., 3., 3., 3.])"
            ]
          },
          "metadata": {
            "tags": []
          },
          "execution_count": 29
        }
      ]
    },
    {
      "cell_type": "code",
      "metadata": {
        "id": "kRAJkEClSR-w",
        "colab_type": "code",
        "outputId": "f5b2d272-5461-449c-a09d-14f29fa58293",
        "colab": {
          "base_uri": "https://localhost:8080/",
          "height": 35
        }
      },
      "source": [
        "# squeeze adds an axis with length of 1 along the specified dimension\n",
        "t.reshape(12).unsqueeze(dim = 0)"
      ],
      "execution_count": 30,
      "outputs": [
        {
          "output_type": "execute_result",
          "data": {
            "text/plain": [
              "tensor([[1., 1., 1., 1., 2., 2., 2., 2., 3., 3., 3., 3.]])"
            ]
          },
          "metadata": {
            "tags": []
          },
          "execution_count": 30
        }
      ]
    },
    {
      "cell_type": "code",
      "metadata": {
        "id": "zDYWbFpsSZv5",
        "colab_type": "code",
        "outputId": "d1c86d9d-7a40-4fd1-9e07-17bbda83d56e",
        "colab": {
          "base_uri": "https://localhost:8080/",
          "height": 225
        }
      },
      "source": [
        "# squeeze adds an axis with length of 1 along the specified dimension\n",
        "t.reshape(12).unsqueeze(dim = 1)"
      ],
      "execution_count": 31,
      "outputs": [
        {
          "output_type": "execute_result",
          "data": {
            "text/plain": [
              "tensor([[1.],\n",
              "        [1.],\n",
              "        [1.],\n",
              "        [1.],\n",
              "        [2.],\n",
              "        [2.],\n",
              "        [2.],\n",
              "        [2.],\n",
              "        [3.],\n",
              "        [3.],\n",
              "        [3.],\n",
              "        [3.]])"
            ]
          },
          "metadata": {
            "tags": []
          },
          "execution_count": 31
        }
      ]
    },
    {
      "cell_type": "code",
      "metadata": {
        "id": "mvPxX_-sVbtf",
        "colab_type": "code",
        "outputId": "59c1122d-6d95-4d40-bbaf-f3390ffa1136",
        "colab": {
          "base_uri": "https://localhost:8080/",
          "height": 35
        }
      },
      "source": [
        "t.flatten()"
      ],
      "execution_count": 32,
      "outputs": [
        {
          "output_type": "execute_result",
          "data": {
            "text/plain": [
              "tensor([1., 1., 1., 1., 2., 2., 2., 2., 3., 3., 3., 3.])"
            ]
          },
          "metadata": {
            "tags": []
          },
          "execution_count": 32
        }
      ]
    },
    {
      "cell_type": "code",
      "metadata": {
        "id": "z3evupJjV2nt",
        "colab_type": "code",
        "outputId": "3e63b724-acc7-4198-ba6f-a5f332eccc91",
        "colab": {
          "base_uri": "https://localhost:8080/",
          "height": 87
        }
      },
      "source": [
        "# concatenating\n",
        "\n",
        "a = torch.tensor([\n",
        "    [1,2,3],\n",
        "    [1,2,3]\n",
        "])\n",
        "\n",
        "b = torch.tensor([\n",
        "    [4,5,6],\n",
        "    [4,5,6]\n",
        "])\n",
        "\n",
        "torch.cat((a,b), dim = 0)"
      ],
      "execution_count": 33,
      "outputs": [
        {
          "output_type": "execute_result",
          "data": {
            "text/plain": [
              "tensor([[1, 2, 3],\n",
              "        [1, 2, 3],\n",
              "        [4, 5, 6],\n",
              "        [4, 5, 6]])"
            ]
          },
          "metadata": {
            "tags": []
          },
          "execution_count": 33
        }
      ]
    },
    {
      "cell_type": "code",
      "metadata": {
        "id": "bnwmpPk8Wam5",
        "colab_type": "code",
        "outputId": "ace3c43c-d054-49e7-8bf6-2caa33ac72f8",
        "colab": {
          "base_uri": "https://localhost:8080/",
          "height": 52
        }
      },
      "source": [
        "torch.cat((a,b), dim = 1)"
      ],
      "execution_count": 34,
      "outputs": [
        {
          "output_type": "execute_result",
          "data": {
            "text/plain": [
              "tensor([[1, 2, 3, 4, 5, 6],\n",
              "        [1, 2, 3, 4, 5, 6]])"
            ]
          },
          "metadata": {
            "tags": []
          },
          "execution_count": 34
        }
      ]
    },
    {
      "cell_type": "markdown",
      "metadata": {
        "id": "kDGRw8P5WwxL",
        "colab_type": "text"
      },
      "source": [
        "# CNN Flatten Operation Visualized - Tensor Batch Processing for Deep Learning"
      ]
    },
    {
      "cell_type": "code",
      "metadata": {
        "id": "LJOPowtSWyRN",
        "colab_type": "code",
        "outputId": "1afc1532-20d6-4f5b-c95d-ed2b82bc39e1",
        "colab": {
          "base_uri": "https://localhost:8080/",
          "height": 173
        }
      },
      "source": [
        "a = torch.ones(3,4)\n",
        "b = a + 1\n",
        "c = b + 1\n",
        "\n",
        "print(a)\n",
        "print(b)\n",
        "print(c)"
      ],
      "execution_count": 35,
      "outputs": [
        {
          "output_type": "stream",
          "text": [
            "tensor([[1., 1., 1., 1.],\n",
            "        [1., 1., 1., 1.],\n",
            "        [1., 1., 1., 1.]])\n",
            "tensor([[2., 2., 2., 2.],\n",
            "        [2., 2., 2., 2.],\n",
            "        [2., 2., 2., 2.]])\n",
            "tensor([[3., 3., 3., 3.],\n",
            "        [3., 3., 3., 3.],\n",
            "        [3., 3., 3., 3.]])\n"
          ],
          "name": "stdout"
        }
      ]
    },
    {
      "cell_type": "code",
      "metadata": {
        "id": "Jp_tlu18YIyV",
        "colab_type": "code",
        "outputId": "559447b3-3171-4fec-8fa6-41a7bb680d22",
        "colab": {
          "base_uri": "https://localhost:8080/",
          "height": 208
        }
      },
      "source": [
        "# stack the tensors on top of each other\n",
        "torch.stack([a,b,c])"
      ],
      "execution_count": 36,
      "outputs": [
        {
          "output_type": "execute_result",
          "data": {
            "text/plain": [
              "tensor([[[1., 1., 1., 1.],\n",
              "         [1., 1., 1., 1.],\n",
              "         [1., 1., 1., 1.]],\n",
              "\n",
              "        [[2., 2., 2., 2.],\n",
              "         [2., 2., 2., 2.],\n",
              "         [2., 2., 2., 2.]],\n",
              "\n",
              "        [[3., 3., 3., 3.],\n",
              "         [3., 3., 3., 3.],\n",
              "         [3., 3., 3., 3.]]])"
            ]
          },
          "metadata": {
            "tags": []
          },
          "execution_count": 36
        }
      ]
    },
    {
      "cell_type": "code",
      "metadata": {
        "id": "VgyUYRkMYYVQ",
        "colab_type": "code",
        "outputId": "aaf43dc1-0590-438d-d5cf-67ded7dce85f",
        "colab": {
          "base_uri": "https://localhost:8080/",
          "height": 243
        }
      },
      "source": [
        "# often we need to unsqueeze grayscale images before feeding them to a neural net\n",
        "\n",
        "torch.unsqueeze(torch.stack([a,b,c]), dim = 1)"
      ],
      "execution_count": 37,
      "outputs": [
        {
          "output_type": "execute_result",
          "data": {
            "text/plain": [
              "tensor([[[[1., 1., 1., 1.],\n",
              "          [1., 1., 1., 1.],\n",
              "          [1., 1., 1., 1.]]],\n",
              "\n",
              "\n",
              "        [[[2., 2., 2., 2.],\n",
              "          [2., 2., 2., 2.],\n",
              "          [2., 2., 2., 2.]]],\n",
              "\n",
              "\n",
              "        [[[3., 3., 3., 3.],\n",
              "          [3., 3., 3., 3.],\n",
              "          [3., 3., 3., 3.]]]])"
            ]
          },
          "metadata": {
            "tags": []
          },
          "execution_count": 37
        }
      ]
    },
    {
      "cell_type": "markdown",
      "metadata": {
        "id": "Zca8LdF6Y0Gp",
        "colab_type": "text"
      },
      "source": [
        "Brackets are arranged in the order [batch, channel, height, width]"
      ]
    },
    {
      "cell_type": "code",
      "metadata": {
        "id": "IX6xtPtRZAgI",
        "colab_type": "code",
        "outputId": "3443d62e-7333-4708-dc70-4cdd375c7cdb",
        "colab": {
          "base_uri": "https://localhost:8080/",
          "height": 35
        }
      },
      "source": [
        "t = torch.unsqueeze(torch.stack([a,b,c]), dim = 1)\n",
        "print(t.shape)"
      ],
      "execution_count": 38,
      "outputs": [
        {
          "output_type": "stream",
          "text": [
            "torch.Size([3, 1, 3, 4])\n"
          ],
          "name": "stdout"
        }
      ]
    },
    {
      "cell_type": "code",
      "metadata": {
        "id": "_WdMt5FjZ8st",
        "colab_type": "code",
        "outputId": "9ac5f40c-f753-498f-fc07-6ba060423162",
        "colab": {
          "base_uri": "https://localhost:8080/",
          "height": 69
        }
      },
      "source": [
        "# first image in the batch\n",
        "t[0]"
      ],
      "execution_count": 39,
      "outputs": [
        {
          "output_type": "execute_result",
          "data": {
            "text/plain": [
              "tensor([[[1., 1., 1., 1.],\n",
              "         [1., 1., 1., 1.],\n",
              "         [1., 1., 1., 1.]]])"
            ]
          },
          "metadata": {
            "tags": []
          },
          "execution_count": 39
        }
      ]
    },
    {
      "cell_type": "code",
      "metadata": {
        "id": "e7R9-XRJaBFF",
        "colab_type": "code",
        "outputId": "224b3250-e5db-4ab6-aadb-99226d58fd3b",
        "colab": {
          "base_uri": "https://localhost:8080/",
          "height": 69
        }
      },
      "source": [
        "# first color channel of the first image\n",
        "t[0][0]"
      ],
      "execution_count": 40,
      "outputs": [
        {
          "output_type": "execute_result",
          "data": {
            "text/plain": [
              "tensor([[1., 1., 1., 1.],\n",
              "        [1., 1., 1., 1.],\n",
              "        [1., 1., 1., 1.]])"
            ]
          },
          "metadata": {
            "tags": []
          },
          "execution_count": 40
        }
      ]
    },
    {
      "cell_type": "code",
      "metadata": {
        "id": "Oi-gKHCuaJZH",
        "colab_type": "code",
        "outputId": "9e5b85ce-98bd-40c0-ac73-c40c499668f7",
        "colab": {
          "base_uri": "https://localhost:8080/",
          "height": 35
        }
      },
      "source": [
        "# first row of first color channel of the first image\n",
        "t[0][0][0]"
      ],
      "execution_count": 41,
      "outputs": [
        {
          "output_type": "execute_result",
          "data": {
            "text/plain": [
              "tensor([1., 1., 1., 1.])"
            ]
          },
          "metadata": {
            "tags": []
          },
          "execution_count": 41
        }
      ]
    },
    {
      "cell_type": "code",
      "metadata": {
        "id": "s_59sFQdaqeR",
        "colab_type": "code",
        "outputId": "141b7a23-f376-4f8a-cf55-f34f4f4c0504",
        "colab": {
          "base_uri": "https://localhost:8080/",
          "height": 69
        }
      },
      "source": [
        "# when flattening images to feed to our CNN we don't want to flatten in batch axis\n",
        "# this is specified using start_dim which tells the function which axis to start flattening \n",
        "t.flatten(start_dim = 1)"
      ],
      "execution_count": 42,
      "outputs": [
        {
          "output_type": "execute_result",
          "data": {
            "text/plain": [
              "tensor([[1., 1., 1., 1., 1., 1., 1., 1., 1., 1., 1., 1.],\n",
              "        [2., 2., 2., 2., 2., 2., 2., 2., 2., 2., 2., 2.],\n",
              "        [3., 3., 3., 3., 3., 3., 3., 3., 3., 3., 3., 3.]])"
            ]
          },
          "metadata": {
            "tags": []
          },
          "execution_count": 42
        }
      ]
    },
    {
      "cell_type": "markdown",
      "metadata": {
        "id": "HM5iZSChYEoI",
        "colab_type": "text"
      },
      "source": [
        "# Tensor Reduction Operations\n",
        "A reduction operation on a tensor is an operation that reduces the number of elements contained within the tensor."
      ]
    },
    {
      "cell_type": "code",
      "metadata": {
        "id": "OQY-6bAdS-4Y",
        "colab_type": "code",
        "colab": {}
      },
      "source": [
        "t = torch.tensor([\n",
        "    [1,2,3],\n",
        "    [4,5,6],\n",
        "    [7,8,9]\n",
        "], dtype = torch.float32)"
      ],
      "execution_count": 0,
      "outputs": []
    },
    {
      "cell_type": "code",
      "metadata": {
        "id": "3Be6QV5WY4Mc",
        "colab_type": "code",
        "outputId": "1620b434-12f0-4266-944b-19f537b994b9",
        "colab": {
          "base_uri": "https://localhost:8080/",
          "height": 35
        }
      },
      "source": [
        "# sum of all the elements in the tensor\n",
        "t.sum()"
      ],
      "execution_count": 44,
      "outputs": [
        {
          "output_type": "execute_result",
          "data": {
            "text/plain": [
              "tensor(45.)"
            ]
          },
          "metadata": {
            "tags": []
          },
          "execution_count": 44
        }
      ]
    },
    {
      "cell_type": "code",
      "metadata": {
        "id": "_FiwgZ5lZByI",
        "colab_type": "code",
        "outputId": "e1eb1f74-34dc-4b1b-9857-b777524ccff2",
        "colab": {
          "base_uri": "https://localhost:8080/",
          "height": 35
        }
      },
      "source": [
        "# product of all the elements in the tensor\n",
        "t.prod()"
      ],
      "execution_count": 45,
      "outputs": [
        {
          "output_type": "execute_result",
          "data": {
            "text/plain": [
              "tensor(362880.)"
            ]
          },
          "metadata": {
            "tags": []
          },
          "execution_count": 45
        }
      ]
    },
    {
      "cell_type": "code",
      "metadata": {
        "id": "-DvjhWtbZGN9",
        "colab_type": "code",
        "outputId": "2e88061d-5042-4849-bd73-a94f32b7772f",
        "colab": {
          "base_uri": "https://localhost:8080/",
          "height": 35
        }
      },
      "source": [
        "# mean of all the elements in the tensor\n",
        "t.mean()"
      ],
      "execution_count": 46,
      "outputs": [
        {
          "output_type": "execute_result",
          "data": {
            "text/plain": [
              "tensor(5.)"
            ]
          },
          "metadata": {
            "tags": []
          },
          "execution_count": 46
        }
      ]
    },
    {
      "cell_type": "code",
      "metadata": {
        "id": "TSp0TJuAZRs6",
        "colab_type": "code",
        "outputId": "af238864-15f0-40a4-ce4a-8d9a74b88161",
        "colab": {
          "base_uri": "https://localhost:8080/",
          "height": 35
        }
      },
      "source": [
        "# standard deviation of all the elements in the tensor\n",
        "t.std()"
      ],
      "execution_count": 47,
      "outputs": [
        {
          "output_type": "execute_result",
          "data": {
            "text/plain": [
              "tensor(2.7386)"
            ]
          },
          "metadata": {
            "tags": []
          },
          "execution_count": 47
        }
      ]
    },
    {
      "cell_type": "code",
      "metadata": {
        "id": "H_LDWddOZb9G",
        "colab_type": "code",
        "outputId": "ebe9c655-59b2-44ec-fd56-b1e95ef80d3a",
        "colab": {
          "base_uri": "https://localhost:8080/",
          "height": 35
        }
      },
      "source": [
        "# number of elements in the tensor\n",
        "t.numel()"
      ],
      "execution_count": 48,
      "outputs": [
        {
          "output_type": "execute_result",
          "data": {
            "text/plain": [
              "9"
            ]
          },
          "metadata": {
            "tags": []
          },
          "execution_count": 48
        }
      ]
    },
    {
      "cell_type": "markdown",
      "metadata": {
        "id": "dsCQP9IDaGwq",
        "colab_type": "text"
      },
      "source": [
        "All of these tensor methods reduce the tensor to a single element scalar valued tensor by operating on all the tensor's elements.\n",
        "\n",
        "### We can select axes for reduction operation\n"
      ]
    },
    {
      "cell_type": "code",
      "metadata": {
        "id": "L85yCIhOaVx5",
        "colab_type": "code",
        "outputId": "6065bd92-4960-40c9-97bc-9fb1ac389bb6",
        "colab": {
          "base_uri": "https://localhost:8080/",
          "height": 52
        }
      },
      "source": [
        "print(t.mean(dim = 0))\n",
        "print(t.mean(dim = 1))"
      ],
      "execution_count": 49,
      "outputs": [
        {
          "output_type": "stream",
          "text": [
            "tensor([4., 5., 6.])\n",
            "tensor([2., 5., 8.])\n"
          ],
          "name": "stdout"
        }
      ]
    },
    {
      "cell_type": "code",
      "metadata": {
        "id": "cm3ncJjEajaS",
        "colab_type": "code",
        "outputId": "7fde9024-3eef-4cf0-d2bd-1e43fb9acb92",
        "colab": {
          "base_uri": "https://localhost:8080/",
          "height": 52
        }
      },
      "source": [
        "print(t.sum(dim = 0))\n",
        "print(t.sum(dim = 1))"
      ],
      "execution_count": 50,
      "outputs": [
        {
          "output_type": "stream",
          "text": [
            "tensor([12., 15., 18.])\n",
            "tensor([ 6., 15., 24.])\n"
          ],
          "name": "stdout"
        }
      ]
    },
    {
      "cell_type": "code",
      "metadata": {
        "id": "OGhnQx7gbwUd",
        "colab_type": "code",
        "outputId": "d375554f-0489-4508-87b8-3684a27fac9f",
        "colab": {
          "base_uri": "https://localhost:8080/",
          "height": 35
        }
      },
      "source": [
        "# finding maximum value\n",
        "t.max()"
      ],
      "execution_count": 51,
      "outputs": [
        {
          "output_type": "execute_result",
          "data": {
            "text/plain": [
              "tensor(9.)"
            ]
          },
          "metadata": {
            "tags": []
          },
          "execution_count": 51
        }
      ]
    },
    {
      "cell_type": "code",
      "metadata": {
        "id": "O1ck46jNb0lw",
        "colab_type": "code",
        "outputId": "9559ae6e-8bf2-4829-e868-58091ea221b1",
        "colab": {
          "base_uri": "https://localhost:8080/",
          "height": 35
        }
      },
      "source": [
        "# finding argmax\n",
        "t.argmax()"
      ],
      "execution_count": 52,
      "outputs": [
        {
          "output_type": "execute_result",
          "data": {
            "text/plain": [
              "tensor(8)"
            ]
          },
          "metadata": {
            "tags": []
          },
          "execution_count": 52
        }
      ]
    },
    {
      "cell_type": "markdown",
      "metadata": {
        "id": "Er_wXPm8qAIa",
        "colab_type": "text"
      },
      "source": [
        "## Preparing dataset(Fashion MNIST) \n",
        "\n",
        "Here, we will learn ETL pipeline (extract, transform, load)"
      ]
    },
    {
      "cell_type": "code",
      "metadata": {
        "id": "XdHMMN1IqD_-",
        "colab_type": "code",
        "colab": {}
      },
      "source": [
        "import torch\n",
        "import torch.nn as nn\n",
        "import torch.optim as optim\n",
        "import torch.nn.functional as F\n",
        "\n",
        "import torchvision\n",
        "import torchvision.transforms as transforms"
      ],
      "execution_count": 0,
      "outputs": []
    },
    {
      "cell_type": "markdown",
      "metadata": {
        "id": "5VdQXZAxsW9v",
        "colab_type": "text"
      },
      "source": [
        "torch: The top-level PyTorch package and tensor library.\n",
        "\n",
        "torch.nn:\tA subpackage that contains modules and extensible classes for building neural networks.\n",
        "\n",
        "torch.optim:\tA subpackage that contains standard optimization operations like SGD and Adam.\n",
        "\n",
        "torch.nn.functional: A functional interface that contains typical operations used for building neural networks like loss functions and convolutions.\n",
        "\n",
        "torchvision:\tA package that provides access to popular datasets, model architectures, and image transformations for computer vision.\n",
        "\n",
        "torchvision.transforms:\tAn interface that contains common transforms for image processing.\n"
      ]
    },
    {
      "cell_type": "code",
      "metadata": {
        "id": "aChwQNwssTqL",
        "colab_type": "code",
        "colab": {}
      },
      "source": [
        "import numpy as np\n",
        "import pandas as pd\n",
        "import matplotlib.pyplot as plt\n",
        "\n",
        "from sklearn.metrics import confusion_matrix\n",
        "#from plotcm import plot_confusion_matrix\n",
        "\n",
        "import pdb\n",
        "\n",
        "torch.set_printoptions(linewidth=120)"
      ],
      "execution_count": 0,
      "outputs": []
    },
    {
      "cell_type": "markdown",
      "metadata": {
        "id": "U5lCZZhLt09m",
        "colab_type": "text"
      },
      "source": [
        "torch.utils.data.Dataset:\tAn abstract class for representing a dataset.\n",
        "torch.utils.data.DataLoader:\tWraps a dataset and provides access to the underlying data.\n",
        "\n",
        "An abstract class is a Python class that has methods we must implement, so we can create a custom dataset by creating a subclass that extends the functionality of the Dataset class.\n",
        "\n",
        "To create a custom dataset using PyTorch, we extend the Dataset class by creating a subclass that implements these required methods. Upon doing this, our new subclass can then be passed to the a PyTorch DataLoader object."
      ]
    },
    {
      "cell_type": "code",
      "metadata": {
        "id": "WlfhCJISu3YV",
        "colab_type": "code",
        "outputId": "8163e49a-ca67-4af3-d22a-a8d496dbbf67",
        "colab": {
          "base_uri": "https://localhost:8080/",
          "height": 280
        }
      },
      "source": [
        "# Since we want our images to be transformed into tensors,\n",
        "# we use the built-in transforms.ToTensor() transformation, \n",
        "# and since this dataset is going to be used for training,\n",
        "# we’ll name the instance train_set.\n",
        "\n",
        "# download the dataset if it doesn't exist on the disk\n",
        "\n",
        "train_set = torchvision.datasets.FashionMNIST(\n",
        "    root='./data/FashionMNIST'\n",
        "    ,train=True\n",
        "    ,download=True\n",
        "    ,transform=transforms.Compose([\n",
        "        transforms.ToTensor()\n",
        "    ])\n",
        ")"
      ],
      "execution_count": 55,
      "outputs": [
        {
          "output_type": "stream",
          "text": [
            "\r0it [00:00, ?it/s]"
          ],
          "name": "stderr"
        },
        {
          "output_type": "stream",
          "text": [
            "Downloading http://fashion-mnist.s3-website.eu-central-1.amazonaws.com/train-images-idx3-ubyte.gz to ./data/FashionMNIST/FashionMNIST/raw/train-images-idx3-ubyte.gz\n"
          ],
          "name": "stdout"
        },
        {
          "output_type": "stream",
          "text": [
            "26427392it [00:01, 13935598.38it/s]                             \n"
          ],
          "name": "stderr"
        },
        {
          "output_type": "stream",
          "text": [
            "Extracting ./data/FashionMNIST/FashionMNIST/raw/train-images-idx3-ubyte.gz\n"
          ],
          "name": "stdout"
        },
        {
          "output_type": "stream",
          "text": [
            "\r0it [00:00, ?it/s]"
          ],
          "name": "stderr"
        },
        {
          "output_type": "stream",
          "text": [
            "Downloading http://fashion-mnist.s3-website.eu-central-1.amazonaws.com/train-labels-idx1-ubyte.gz to ./data/FashionMNIST/FashionMNIST/raw/train-labels-idx1-ubyte.gz\n"
          ],
          "name": "stdout"
        },
        {
          "output_type": "stream",
          "text": [
            "32768it [00:00, 79764.46it/s]                            \n",
            "0it [00:00, ?it/s]"
          ],
          "name": "stderr"
        },
        {
          "output_type": "stream",
          "text": [
            "Extracting ./data/FashionMNIST/FashionMNIST/raw/train-labels-idx1-ubyte.gz\n",
            "Downloading http://fashion-mnist.s3-website.eu-central-1.amazonaws.com/t10k-images-idx3-ubyte.gz to ./data/FashionMNIST/FashionMNIST/raw/t10k-images-idx3-ubyte.gz\n"
          ],
          "name": "stdout"
        },
        {
          "output_type": "stream",
          "text": [
            "4423680it [00:01, 4033094.37it/s]                             \n",
            "0it [00:00, ?it/s]"
          ],
          "name": "stderr"
        },
        {
          "output_type": "stream",
          "text": [
            "Extracting ./data/FashionMNIST/FashionMNIST/raw/t10k-images-idx3-ubyte.gz\n",
            "Downloading http://fashion-mnist.s3-website.eu-central-1.amazonaws.com/t10k-labels-idx1-ubyte.gz to ./data/FashionMNIST/FashionMNIST/raw/t10k-labels-idx1-ubyte.gz\n"
          ],
          "name": "stdout"
        },
        {
          "output_type": "stream",
          "text": [
            "8192it [00:00, 33633.03it/s]            "
          ],
          "name": "stderr"
        },
        {
          "output_type": "stream",
          "text": [
            "Extracting ./data/FashionMNIST/FashionMNIST/raw/t10k-labels-idx1-ubyte.gz\n",
            "Processing...\n",
            "Done!\n"
          ],
          "name": "stdout"
        },
        {
          "output_type": "stream",
          "text": [
            "\n"
          ],
          "name": "stderr"
        }
      ]
    },
    {
      "cell_type": "markdown",
      "metadata": {
        "id": "p018e-E8wSTK",
        "colab_type": "text"
      },
      "source": [
        "All subclasses of the Dataset class must override __len__, that provides the size of the dataset, and __getitem__, supporting integer indexing in range from 0 to len(self) exclusive.\n",
        "\n",
        "Specifically, there are two methods that are required to be implemented. The __len__ method which returns the length of the dataset, and the __getitem__ method that gets an element from the dataset at a specific index location within the dataset."
      ]
    },
    {
      "cell_type": "markdown",
      "metadata": {
        "id": "6TKb3vObw9Yj",
        "colab_type": "text"
      },
      "source": [
        "## Exploring the data"
      ]
    },
    {
      "cell_type": "code",
      "metadata": {
        "id": "OtZr7seZw8qm",
        "colab_type": "code",
        "outputId": "22eab4cc-6071-4a5a-f1fe-cc6a57d23966",
        "colab": {
          "base_uri": "https://localhost:8080/",
          "height": 35
        }
      },
      "source": [
        "len(train_set)"
      ],
      "execution_count": 56,
      "outputs": [
        {
          "output_type": "execute_result",
          "data": {
            "text/plain": [
              "60000"
            ]
          },
          "metadata": {
            "tags": []
          },
          "execution_count": 56
        }
      ]
    },
    {
      "cell_type": "code",
      "metadata": {
        "id": "OW_vJC9SxJqV",
        "colab_type": "code",
        "outputId": "e980029f-dc3f-4566-e46d-c02b944eec00",
        "colab": {
          "base_uri": "https://localhost:8080/",
          "height": 35
        }
      },
      "source": [
        "# print the target labels for all the 60000 images\n",
        "train_set.targets"
      ],
      "execution_count": 57,
      "outputs": [
        {
          "output_type": "execute_result",
          "data": {
            "text/plain": [
              "tensor([9, 0, 0,  ..., 3, 0, 5])"
            ]
          },
          "metadata": {
            "tags": []
          },
          "execution_count": 57
        }
      ]
    },
    {
      "cell_type": "code",
      "metadata": {
        "id": "sq2BZYhRxjpV",
        "colab_type": "code",
        "outputId": "83b6d7c5-534a-4163-9aff-81b475b0a37a",
        "colab": {
          "base_uri": "https://localhost:8080/",
          "height": 35
        }
      },
      "source": [
        "# finding unique labels \n",
        "torch.unique(train_set.targets)"
      ],
      "execution_count": 58,
      "outputs": [
        {
          "output_type": "execute_result",
          "data": {
            "text/plain": [
              "tensor([0, 1, 2, 3, 4, 5, 6, 7, 8, 9])"
            ]
          },
          "metadata": {
            "tags": []
          },
          "execution_count": 58
        }
      ]
    },
    {
      "cell_type": "code",
      "metadata": {
        "id": "gGtrTHLZx6X6",
        "colab_type": "code",
        "outputId": "de689ffc-7f00-4cdf-f0ff-919026d9966f",
        "colab": {
          "base_uri": "https://localhost:8080/",
          "height": 35
        }
      },
      "source": [
        "# find how many of each labels exist in the dataset\n",
        "train_set.targets.bincount()"
      ],
      "execution_count": 59,
      "outputs": [
        {
          "output_type": "execute_result",
          "data": {
            "text/plain": [
              "tensor([6000, 6000, 6000, 6000, 6000, 6000, 6000, 6000, 6000, 6000])"
            ]
          },
          "metadata": {
            "tags": []
          },
          "execution_count": 59
        }
      ]
    },
    {
      "cell_type": "markdown",
      "metadata": {
        "id": "tXDhxiUeyGP4",
        "colab_type": "text"
      },
      "source": [
        "This shows us that the Fashion-MNIST dataset is uniform with respect to the number of samples from each class. This means we have 6000 samples for each class. As a result, this dataset is said to be balanced. If the classes had a varying number of samples, we would call the set an unbalanced dataset.\n",
        "\n",
        "## Accessing data in the training set\n",
        "To access an individual element from the training set, we first pass the train_set object to Python’s iter() built-in function, which returns an object representing a stream of data.\n",
        "\n",
        "With the stream of data, we can use Python built-in next() function to get the next data element in the stream of data. From this we are expecting to get a single sample, so we’ll name the result accordingly:"
      ]
    },
    {
      "cell_type": "code",
      "metadata": {
        "id": "SEuF6jUgyHFu",
        "colab_type": "code",
        "outputId": "e0389acd-4328-4718-941a-4d596c17343b",
        "colab": {
          "base_uri": "https://localhost:8080/",
          "height": 356
        }
      },
      "source": [
        "# get the next element (not batch)\n",
        "image, label = next(iter(train_set))\n",
        "\n",
        "print(type(image))\n",
        "print(type(label))\n",
        "\n",
        "print(image.shape)\n",
        "print(label)\n",
        "\n",
        "img = image.squeeze()\n",
        "\n",
        "plt.imshow(img, cmap = 'gray')"
      ],
      "execution_count": 60,
      "outputs": [
        {
          "output_type": "stream",
          "text": [
            "<class 'torch.Tensor'>\n",
            "<class 'int'>\n",
            "torch.Size([1, 28, 28])\n",
            "9\n"
          ],
          "name": "stdout"
        },
        {
          "output_type": "execute_result",
          "data": {
            "text/plain": [
              "<matplotlib.image.AxesImage at 0x7fa2ae0eba90>"
            ]
          },
          "metadata": {
            "tags": []
          },
          "execution_count": 60
        },
        {
          "output_type": "display_data",
          "data": {
            "image/png": "[encoded data removed]",
            "text/plain": [
              "<Figure size 432x288 with 1 Axes>"
            ]
          },
          "metadata": {
            "tags": []
          }
        }
      ]
    },
    {
      "cell_type": "markdown",
      "metadata": {
        "id": "kW-t6rn71c0x",
        "colab_type": "text"
      },
      "source": [
        "## PyTorch DataLoader: Working with batches of data\n",
        "We get a batch from the loader in the same way that we saw with the training set. We use the iter() and next() functions.\n",
        "\n",
        "There is one thing to notice when working with the data loader. If shuffle=True, then the batch will be different each time a call to next occurs. With shuffle=True, the first samples in the training set will be returned on the first call to next. The shuffle functionality is turned off by default."
      ]
    },
    {
      "cell_type": "code",
      "metadata": {
        "id": "daC-FLKYvzVM",
        "colab_type": "code",
        "colab": {}
      },
      "source": [
        "# To create a DataLoader wrapper for our training set, we do it like this:\n",
        "train_loader = torch.utils.data.DataLoader(train_set, batch_size=10, shuffle=True)"
      ],
      "execution_count": 0,
      "outputs": []
    },
    {
      "cell_type": "code",
      "metadata": {
        "id": "gUR0oIci1-_2",
        "colab_type": "code",
        "outputId": "2e45ebc9-95fd-4d7f-9837-1f018a34d06f",
        "colab": {
          "base_uri": "https://localhost:8080/",
          "height": 52
        }
      },
      "source": [
        "images, labels = next(iter(train_loader))\n",
        "print(images.shape)\n",
        "print(labels.shape)"
      ],
      "execution_count": 62,
      "outputs": [
        {
          "output_type": "stream",
          "text": [
            "torch.Size([10, 1, 28, 28])\n",
            "torch.Size([10])\n"
          ],
          "name": "stdout"
        }
      ]
    },
    {
      "cell_type": "markdown",
      "metadata": {
        "id": "1excRu_K4O7y",
        "colab_type": "text"
      },
      "source": [
        "(batch size, number of color channels, image height, image width)\n",
        "\n",
        "To plot a batch of images, we can use the torchvision.utils.make_grid() function to create a grid that can be plotted like so:"
      ]
    },
    {
      "cell_type": "code",
      "metadata": {
        "id": "Q2NSM9wM4QL9",
        "colab_type": "code",
        "outputId": "7672af88-7775-4b8f-b9c5-cc7153ee4f91",
        "colab": {
          "base_uri": "https://localhost:8080/",
          "height": 158
        }
      },
      "source": [
        "# make a grid with the images \n",
        "grid = torchvision.utils.make_grid(images, nrow=10)\n",
        "\n",
        "plt.figure(figsize = (15,4))\n",
        "plt.imshow(np.transpose(grid,(1,2,0)))\n",
        "#we can also use: grid.permute(1,2,0)\n",
        "\n",
        "print('Labels: ',labels)"
      ],
      "execution_count": 63,
      "outputs": [
        {
          "output_type": "stream",
          "text": [
            "Labels:  tensor([3, 2, 2, 2, 2, 2, 5, 5, 3, 0])\n"
          ],
          "name": "stdout"
        },
        {
          "output_type": "display_data",
          "data": {
            "image/png": "[encoded data removed]",
            "text/plain": [
              "<Figure size 1080x288 with 1 Axes>"
            ]
          },
          "metadata": {
            "tags": []
          }
        }
      ]
    },
    {
      "cell_type": "markdown",
      "metadata": {
        "id": "HjjVppQB6N2j",
        "colab_type": "text"
      },
      "source": [
        "# Build PyTorch CNN - Object Oriented Neural Networks\n",
        "To build neural networks in PyTorch, we extend the torch.nn.Module PyTorch class. This means we need to utilize a little bit of object oriented programming (OOP) in Python.\n",
        "\n",
        "We’ll do a quick OOP review in this post to cover the details needed for working with PyTorch neural networks, but if you find that you need more, the Python docs have an overview tutorial [here.](https://https://docs.python.org/3/tutorial/classes.html)\n",
        "\n",
        "## PyTorch’s torch.nn package\n",
        "To build neural networks in PyTorch, we use the torch.nn package, which is PyTorch’s neural network (nn) library. We typically import the package like so:\n",
        "\n",
        "\n",
        "```\n",
        "import torch.nn as nn\n",
        "```\n",
        "\n",
        "## PyTorch's nn.Module class\n",
        "As we know, deep neural networks are built using multiple layers. This is what makes the network deep. Each layer in a neural network has two primary components:\n",
        "\n",
        "A transformation (code)\n",
        "A collection of weights (data)\n",
        "Like many things in life, this fact makes layers great candidates to be represented as objects using OOP. OOP is short for object oriented programming.\n",
        "\n",
        "In fact, this is the case with PyTorch. Within the nn package, there is a class called Module, and it is the base class for all of neural network modules which includes layers.\n",
        "\n",
        "This means that all of the layers in PyTorch extend the nn.Module class and inherit all of PyTorch’s built-in functionality within the nn.Module class. In OOP this concept is known as inheritance.\n",
        "\n",
        "Even neural networks extend the nn.Module class. This makes sense because neural networks themselves can be thought of as one big layer \n",
        "\n",
        "### PyTorch nn.Modules have a forward() method\n",
        "Forward pass is defined in this method. When we are building layers and networks, we must provide an implementation of the forward() method. The forward method is the actual transformation.\n",
        "\n",
        "### PyTorch’s nn.functional package\n",
        "When we implement the forward() method of our nn.Module subclass, we will typically use functions from the nn.functional package. This package provides us with many neural network operations that we can use for building layers. In fact, many of the nn.Module layer classes use nn.functional functions to perform their operations.\n",
        "\n",
        "## Steps to create a model in PyTorch\n",
        "* Create a neural network class that extends the nn.Module base class.\n",
        "* In the class constructor, define the network’s layers as class attributes using pre-built layers from torch.nn.\n",
        "* Use the network’s layer attributes as well as operations from the nn.functional API to define the network’s forward pass.\n",
        "\n",
        "## Step 1 "
      ]
    },
    {
      "cell_type": "code",
      "metadata": {
        "id": "cRkD8Psk6NS2",
        "colab_type": "code",
        "colab": {}
      },
      "source": [
        "# create a simple class\n",
        "class Network:\n",
        "    def __init__(self):\n",
        "        self.layer = None\n",
        "\n",
        "    def forward(self, t):\n",
        "        t = self.layer(t)\n",
        "        return t"
      ],
      "execution_count": 0,
      "outputs": []
    },
    {
      "cell_type": "markdown",
      "metadata": {
        "id": "rVWZDnniVWW0",
        "colab_type": "text"
      },
      "source": [
        "This gives us a simple network class that has a single dummy layer inside the constructor and a dummy implementation for the forward function.\n",
        "\n",
        "The implementation for the forward() function takes in a tensor t and transforms it using the dummy layer. After the tensor is transformed, the new tensor is returned.\n",
        "\n",
        "This is a good start, but the class hasn’t yet extended the nn.Module class. To make our Network class extend nn.Module, we must do two additional things:\n",
        "\n",
        "* Specify the nn.Module class in parentheses on line 1.\n",
        "* Insert a call to the super class constructor on line 3 inside the constructor."
      ]
    },
    {
      "cell_type": "code",
      "metadata": {
        "id": "ZVkY_BEGVXOd",
        "colab_type": "code",
        "colab": {}
      },
      "source": [
        "class Network(nn.Module):\n",
        "    def __init__(self):\n",
        "        super(Network,self).__init__()\n",
        "        self.layer = None\n",
        "        \n",
        "    def forward(self,t):\n",
        "        t = self.Layer(t)\n",
        "        return t"
      ],
      "execution_count": 0,
      "outputs": []
    },
    {
      "cell_type": "markdown",
      "metadata": {
        "id": "I9WGnDQlWWAd",
        "colab_type": "text"
      },
      "source": [
        "These changes transform our simple neural network into a PyTorch neural network because we are now extending PyTorch's nn.Module base class.\n",
        "\n",
        "With this, we are done! Now we have a Network class that has all of the functionality of the PyTorch nn.Module class.\n",
        "\n",
        "## Step 2"
      ]
    },
    {
      "cell_type": "code",
      "metadata": {
        "id": "UMRauA6GWsfl",
        "colab_type": "code",
        "colab": {}
      },
      "source": [
        "class Network(nn.Module):\n",
        "    def __init__(self):\n",
        "        super(Network,self).__init__()\n",
        "        self.conv1 = nn.Conv2d(in_channels=1, out_channels=6, kernel_size=5)\n",
        "        self.conv2 = nn.Conv2d(in_channels=6, out_channels=12, kernel_size=5)\n",
        "        \n",
        "        self.fc1 = nn.Linear(in_features=12 * 4 * 4, out_features=120)\n",
        "        self.fc2 = nn.Linear(in_features=120, out_features=60)\n",
        "        self.out = nn.Linear(in_features=60, out_features=10)\n",
        "        \n",
        "    def forward(self,t): \n",
        "        # implement the forward pass\n",
        "        return t"
      ],
      "execution_count": 0,
      "outputs": []
    },
    {
      "cell_type": "markdown",
      "metadata": {
        "id": "eZXPdct5Y1-A",
        "colab_type": "text"
      },
      "source": [
        "Each of our layers extends PyTorch's neural network Module class. For each layer, there are two primary items encapsulated inside, a forward function definition and a weight tensor.\n",
        "\n",
        "The weight tensor inside each layer contains the weight values that are updated as the network learns during the training process, and this is the reason we are specifying our layers as attributes inside our Network class.\n",
        "\n",
        "PyTorch's neural network Module class keeps track of the weight tensors inside each layer. The code that does this tracking lives inside the nn.Module class, and since we are extending the neural network module class, we inherit this functionality automatically.\n",
        "\n",
        "Remember, inheritance is one of those object oriented concepts that we talked about last time. All we have to do to take advantage of this functionality is assign our layers as attributes inside our network module, and the Module base class will see this and register the weights as learnable parameters of our network.\n",
        "\n",
        "#### Parameter vs Argument\n",
        "While parameters are used in function definitions as place-holders while arguments are the actual values that are passed to the function. The parameters can be thought of as local variables that live inside a function.\n",
        "\n",
        "In our network's case, the names are the parameters and the values that we have specified are the arguments.\n",
        "\n",
        "### Getting an instance of the Network\n",
        "Remember, to get an object instance of our Network class, we type the class name followed by parentheses. When this code executes, the code inside the __init__ class constructor will run, assigning our layers as attributes before the object instance is returned."
      ]
    },
    {
      "cell_type": "code",
      "metadata": {
        "id": "WwX5x-SbZSZJ",
        "colab_type": "code",
        "outputId": "bc7ebfe2-c9ba-4d97-be2e-49b82959f3e3",
        "colab": {
          "base_uri": "https://localhost:8080/",
          "height": 139
        }
      },
      "source": [
        "network = Network()\n",
        "print(network)"
      ],
      "execution_count": 67,
      "outputs": [
        {
          "output_type": "stream",
          "text": [
            "Network(\n",
            "  (conv1): Conv2d(1, 6, kernel_size=(5, 5), stride=(1, 1))\n",
            "  (conv2): Conv2d(6, 12, kernel_size=(5, 5), stride=(1, 1))\n",
            "  (fc1): Linear(in_features=192, out_features=120, bias=True)\n",
            "  (fc2): Linear(in_features=120, out_features=60, bias=True)\n",
            "  (out): Linear(in_features=60, out_features=10, bias=True)\n",
            ")\n"
          ],
          "name": "stdout"
        }
      ]
    },
    {
      "cell_type": "markdown",
      "metadata": {
        "id": "bMp1vorhgG7c",
        "colab_type": "text"
      },
      "source": [
        "This nice string representation comes from nn.Module base class. We can override this functionality using __repr__() "
      ]
    },
    {
      "cell_type": "code",
      "metadata": {
        "id": "PVfJNjI7gYIR",
        "colab_type": "code",
        "outputId": "8b5d52c7-118c-4f71-bd1f-29a9e2f476af",
        "colab": {
          "base_uri": "https://localhost:8080/",
          "height": 35
        }
      },
      "source": [
        "class Network(nn.Module):\n",
        "    \n",
        "    # constructor function constructs objects\n",
        "    def __init__(self):\n",
        "        super(Network,self).__init__()\n",
        "        self.conv1 = nn.Conv2d(in_channels=1, out_channels=6, kernel_size=5)\n",
        "        self.conv2 = nn.Conv2d(in_channels=6, out_channels=12, kernel_size=5)\n",
        "        \n",
        "        self.fc1 = nn.Linear(in_features=12 * 4 * 4, out_features=120)\n",
        "        self.fc2 = nn.Linear(in_features=120, out_features=60)\n",
        "        self.out = nn.Linear(in_features=60, out_features=10)\n",
        "        \n",
        "    def forward(self,t): \n",
        "        # implement the forward pass\n",
        "        return t\n",
        "    \n",
        "    def __repr__(self):\n",
        "        return 'Simple Model'\n",
        "    \n",
        "network = Network()\n",
        "print(network)    "
      ],
      "execution_count": 68,
      "outputs": [
        {
          "output_type": "stream",
          "text": [
            "Simple Model\n"
          ],
          "name": "stdout"
        }
      ]
    },
    {
      "cell_type": "markdown",
      "metadata": {
        "id": "D2zaccejhn-F",
        "colab_type": "text"
      },
      "source": [
        "### Accessing specific layers of the model\n",
        "we access attributes and methods of objects using dot notation."
      ]
    },
    {
      "cell_type": "code",
      "metadata": {
        "id": "JwPmaOYchnli",
        "colab_type": "code",
        "outputId": "b1876c7b-7525-4c3a-b8a6-6edf3f6b165d",
        "colab": {
          "base_uri": "https://localhost:8080/",
          "height": 35
        }
      },
      "source": [
        "network.conv1"
      ],
      "execution_count": 69,
      "outputs": [
        {
          "output_type": "execute_result",
          "data": {
            "text/plain": [
              "Conv2d(1, 6, kernel_size=(5, 5), stride=(1, 1))"
            ]
          },
          "metadata": {
            "tags": []
          },
          "execution_count": 69
        }
      ]
    },
    {
      "cell_type": "markdown",
      "metadata": {
        "id": "j0SuGT26iE0r",
        "colab_type": "text"
      },
      "source": [
        "### Accessing weights of a layer in the network\n",
        "This is a good example that showcases how objects are nested. We first access the conv layer object that lives inside the network object.\n",
        "\n",
        "Then, we access the weight tensor object that lives inside the conv layer object, so all of these objects are chained or linked together.\n",
        "\n"
      ]
    },
    {
      "cell_type": "code",
      "metadata": {
        "id": "h823-pZeiJHf",
        "colab_type": "code",
        "outputId": "d43d23d4-a0cd-4409-9720-8d0ffed41948",
        "colab": {
          "base_uri": "https://localhost:8080/",
          "height": 745
        }
      },
      "source": [
        "print(network.conv1.weight.shape)\n",
        "print(network.conv1.weight)"
      ],
      "execution_count": 70,
      "outputs": [
        {
          "output_type": "stream",
          "text": [
            "torch.Size([6, 1, 5, 5])\n",
            "Parameter containing:\n",
            "tensor([[[[-0.0919,  0.1548, -0.0552, -0.1840,  0.1948],\n",
            "          [-0.0446,  0.1990,  0.0299,  0.0940, -0.0937],\n",
            "          [-0.1648,  0.0240,  0.0933, -0.1895,  0.0139],\n",
            "          [ 0.0160,  0.0198,  0.1206, -0.0760, -0.0688],\n",
            "          [ 0.1692,  0.0137,  0.0375, -0.1956,  0.1356]]],\n",
            "\n",
            "\n",
            "        [[[-0.0597,  0.1695,  0.0258, -0.1834,  0.1185],\n",
            "          [ 0.0633,  0.0134, -0.1708, -0.0287,  0.0189],\n",
            "          [-0.1834,  0.1581,  0.1628,  0.0663,  0.1070],\n",
            "          [-0.1178,  0.0575,  0.0450, -0.1073, -0.1695],\n",
            "          [ 0.0213,  0.0126,  0.0244, -0.0152,  0.1942]]],\n",
            "\n",
            "\n",
            "        [[[ 0.0781,  0.1767, -0.0103, -0.0761, -0.0909],\n",
            "          [-0.1743,  0.0172, -0.0245, -0.1450,  0.1348],\n",
            "          [ 0.1413, -0.0834, -0.1222, -0.0198,  0.1272],\n",
            "          [ 0.1682, -0.0972, -0.0656,  0.1159, -0.1758],\n",
            "          [-0.0223, -0.1861, -0.1667, -0.0264, -0.1950]]],\n",
            "\n",
            "\n",
            "        [[[-0.0806,  0.1407, -0.1901, -0.1906, -0.0671],\n",
            "          [ 0.1875, -0.1765, -0.0707,  0.0718,  0.0693],\n",
            "          [ 0.0468,  0.0470,  0.0661,  0.0321, -0.0746],\n",
            "          [ 0.1036, -0.0855,  0.0654, -0.0670,  0.0945],\n",
            "          [-0.0007,  0.1927, -0.1569, -0.0152,  0.1977]]],\n",
            "\n",
            "\n",
            "        [[[ 0.0393,  0.0904, -0.0170, -0.0855, -0.1370],\n",
            "          [-0.1996, -0.0622,  0.0527,  0.1276,  0.0534],\n",
            "          [ 0.1357, -0.0888, -0.1372,  0.0575, -0.1983],\n",
            "          [-0.1003,  0.0223,  0.0044,  0.1473, -0.0177],\n",
            "          [ 0.0719, -0.1420,  0.0953, -0.0310,  0.0173]]],\n",
            "\n",
            "\n",
            "        [[[ 0.0971, -0.0715, -0.0473,  0.1090,  0.1435],\n",
            "          [-0.1226,  0.0517, -0.1956, -0.1075,  0.0617],\n",
            "          [ 0.1206, -0.1574, -0.0303,  0.1056, -0.0804],\n",
            "          [ 0.1279,  0.1569,  0.0276,  0.1564,  0.1329],\n",
            "          [-0.0831, -0.0200,  0.1505, -0.0577,  0.0791]]]], requires_grad=True)\n"
          ],
          "name": "stdout"
        }
      ]
    },
    {
      "cell_type": "markdown",
      "metadata": {
        "id": "Hjgj7wIGioHJ",
        "colab_type": "text"
      },
      "source": [
        "**Note:** One thing to notice about the weight tensor output is that it says parameter containing at the top of the output. This is because this particular tensor is a special tensor because its values or scalar components are learnable parameters of our network.\n",
        "\n",
        "### PyTorch Parameter Class\n",
        "To keep track of all the weight tensors inside the network. PyTorch has a special class called Parameter. The Parameter class extends the tensor class, and so the weight tensor inside every layer is an instance of this Parameter class. This is why we see the Parameter containing text at the top of the string representation output.\n",
        "### Accessing the Networks Parameters\n",
        "\n"
      ]
    },
    {
      "cell_type": "code",
      "metadata": {
        "id": "RF65ahjuis9-",
        "colab_type": "code",
        "outputId": "2eecb978-ce1f-427e-a426-154bbf8765b6",
        "colab": {
          "base_uri": "https://localhost:8080/",
          "height": 191
        }
      },
      "source": [
        "for param in network.parameters():\n",
        "    print(param.shape)"
      ],
      "execution_count": 71,
      "outputs": [
        {
          "output_type": "stream",
          "text": [
            "torch.Size([6, 1, 5, 5])\n",
            "torch.Size([6])\n",
            "torch.Size([12, 6, 5, 5])\n",
            "torch.Size([12])\n",
            "torch.Size([120, 192])\n",
            "torch.Size([120])\n",
            "torch.Size([60, 120])\n",
            "torch.Size([60])\n",
            "torch.Size([10, 60])\n",
            "torch.Size([10])\n"
          ],
          "name": "stdout"
        }
      ]
    },
    {
      "cell_type": "code",
      "metadata": {
        "id": "Hw5TMuCRn8_2",
        "colab_type": "code",
        "outputId": "bafdb820-2612-4c1f-8a51-6d6b3e4a325b",
        "colab": {
          "base_uri": "https://localhost:8080/",
          "height": 191
        }
      },
      "source": [
        "for name, param in network.named_parameters():\n",
        "    print('Name: {}      Shape: {}'.format(name, param.shape))"
      ],
      "execution_count": 72,
      "outputs": [
        {
          "output_type": "stream",
          "text": [
            "Name: conv1.weight      Shape: torch.Size([6, 1, 5, 5])\n",
            "Name: conv1.bias      Shape: torch.Size([6])\n",
            "Name: conv2.weight      Shape: torch.Size([12, 6, 5, 5])\n",
            "Name: conv2.bias      Shape: torch.Size([12])\n",
            "Name: fc1.weight      Shape: torch.Size([120, 192])\n",
            "Name: fc1.bias      Shape: torch.Size([120])\n",
            "Name: fc2.weight      Shape: torch.Size([60, 120])\n",
            "Name: fc2.bias      Shape: torch.Size([60])\n",
            "Name: out.weight      Shape: torch.Size([10, 60])\n",
            "Name: out.bias      Shape: torch.Size([10])\n"
          ],
          "name": "stdout"
        }
      ]
    },
    {
      "cell_type": "markdown",
      "metadata": {
        "id": "TR154PFSVdUr",
        "colab_type": "text"
      },
      "source": [
        "### Callable Layers and Neural Networks\n",
        "Instead of calling the forward() method directly, we call the object instance. After the object instance is called, the __call__() method is invoked under the hood, and the __call__() in turn invokes the forward() method. This applies to all PyTorch neural network modules, namely, networks and layers.\n",
        "\n",
        "## Step 3 Forward Pass\n",
        "\n",
        "Each of these layers is comprised of a collection of weights (data) and a collection operations (code). The weights are encapsulated inside the nn.Conv2d() class instance. The relu() and the max_pool2d() calls are just pure operations. Neither of these have weights, and this is why we call them directly from the nn.functional API."
      ]
    },
    {
      "cell_type": "code",
      "metadata": {
        "id": "p09ONW5TWBJr",
        "colab_type": "code",
        "colab": {}
      },
      "source": [
        "class Network(nn.Module):\n",
        "    \n",
        "    # constructor function constructs objects\n",
        "    def __init__(self):\n",
        "        super(Network,self).__init__()\n",
        "        self.conv1 = nn.Conv2d(in_channels=1, out_channels=6, kernel_size=5)\n",
        "        self.conv2 = nn.Conv2d(in_channels=6, out_channels=12, kernel_size=5)\n",
        "        \n",
        "        self.fc1 = nn.Linear(in_features=12 * 4 * 4, out_features=120)\n",
        "        self.fc2 = nn.Linear(in_features=120, out_features=60)\n",
        "        self.out = nn.Linear(in_features=60, out_features=10)\n",
        "        \n",
        "    def forward(self,t): \n",
        "        \n",
        "        t = self.conv1(t)\n",
        "        t = F.relu(t)\n",
        "        t = F.max_pool2d(t, kernel_size = 2, stride = 2)\n",
        "        \n",
        "        t = self.conv2(t)\n",
        "        t = F.relu(t)\n",
        "        t = F.max_pool2d(t, kernel_size = 2, stride = 2)\n",
        "        \n",
        "        t = t.reshape(-1, 12 * 4 * 4)\n",
        "        t = self.fc1(t)\n",
        "        t = F.relu(t)\n",
        "        \n",
        "        t = self.fc2(t)\n",
        "        t = F.relu(t)\n",
        "        \n",
        "        t = self.out(t)\n",
        "        #t = F.softmax(t, dim = 1)\n",
        "       \n",
        "        return t\n",
        "    "
      ],
      "execution_count": 0,
      "outputs": []
    },
    {
      "cell_type": "markdown",
      "metadata": {
        "id": "R5C5kI57aPlU",
        "colab_type": "text"
      },
      "source": [
        "The values inside each of the ten components will correspond to the prediction value for each of our prediction classes.\n",
        "\n",
        "Inside the network we usually use relu() as our non-linear activation function, but for the output layer, whenever we have a single category that we are trying to predict, we use softmax(). The softmax function returns a positive probability for each of the prediction classes, and the probabilities sum to 1.\n",
        "\n",
        "\n",
        " \n",
        "However, in our case, we won't use softmax() because the loss function that we'll use, F.cross_entropy(), implicitly performs the softmax() operation on its input, so we'll just return the result of the last linear transformation.\n",
        "\n",
        "The implication of this is that our network will be trained using the softmax operation but will not need to compute the additional operation when the network is used for inference after the training process is complete.\n",
        "\n",
        "### Predicting with the network: Forward pass\n",
        "Before we being, we are going to turn off PyTorch’s gradient calculation feature. This will stop PyTorch from automatically building a computation graph as our tensor flows through the network.\n",
        "\n",
        "The computation graph keeps track of the network's mapping by tracking each computation that happens. The graph is used during the training process to calculate the derivative (gradient) of the loss function with respect to the network’s weights.\n",
        "\n",
        "Since we are not training the network yet, we aren’t planning on updating the weights, and so we don’t require gradient calculations. We will turn this back on when training begins.\n",
        "\n",
        "### Turning off the computation graph"
      ]
    },
    {
      "cell_type": "code",
      "metadata": {
        "id": "LZ6V8_XpaRhO",
        "colab_type": "code",
        "colab": {
          "base_uri": "https://localhost:8080/",
          "height": 35
        },
        "outputId": "a10aa84f-a625-4385-adca-bc79010605b2"
      },
      "source": [
        "# turning off dynamic computational graph\n",
        "torch.set_grad_enabled(False)"
      ],
      "execution_count": 74,
      "outputs": [
        {
          "output_type": "execute_result",
          "data": {
            "text/plain": [
              "<torch.autograd.grad_mode.set_grad_enabled at 0x7fa2abfda828>"
            ]
          },
          "metadata": {
            "tags": []
          },
          "execution_count": 74
        }
      ]
    },
    {
      "cell_type": "code",
      "metadata": {
        "id": "109b5AxhdL22",
        "colab_type": "code",
        "colab": {
          "base_uri": "https://localhost:8080/",
          "height": 121
        },
        "outputId": "1b2ecd24-bace-4461-8cc5-b0805a9ee640"
      },
      "source": [
        "# create an instance of the Network class\n",
        "network = Network()\n",
        "\n",
        "image, label = next(iter(train_set))\n",
        "print(image.shape)\n",
        "\n",
        "# unsqueeze to add a dimension for batch\n",
        "image = image.unsqueeze(0)\n",
        "print(image.shape)\n",
        "\n",
        "pred = network(image)\n",
        "print(pred)\n",
        "\n",
        "print('Prediction: {}'.format(pred.argmax(dim = 1)))\n",
        "print('Target Label: {}'.format(label))\n",
        "\n",
        "# If we want th epredictions as probability distribution\n",
        "print('Prediction: {}'.format(F.softmax(pred,dim = 1)))"
      ],
      "execution_count": 75,
      "outputs": [
        {
          "output_type": "stream",
          "text": [
            "torch.Size([1, 28, 28])\n",
            "torch.Size([1, 1, 28, 28])\n",
            "tensor([[-0.0967, -0.0576,  0.0862, -0.0516, -0.1085, -0.0490,  0.0748,  0.0182,  0.1227, -0.0943]])\n",
            "Prediction: tensor([8])\n",
            "Target Label: 9\n",
            "Prediction: tensor([[0.0919, 0.0956, 0.1104, 0.0961, 0.0908, 0.0964, 0.1091, 0.1031, 0.1145, 0.0921]])\n"
          ],
          "name": "stdout"
        }
      ]
    },
    {
      "cell_type": "markdown",
      "metadata": {
        "id": "MmrY6uopm56R",
        "colab_type": "text"
      },
      "source": [
        "The prediction in this case is incorrect, which is what we expect because the weights in the network were generated randomly.\n",
        "\n",
        "### Predicting on a batch of data"
      ]
    },
    {
      "cell_type": "code",
      "metadata": {
        "id": "NDSDSSNZm7Gy",
        "colab_type": "code",
        "colab": {
          "base_uri": "https://localhost:8080/",
          "height": 121
        },
        "outputId": "c6626bc3-0814-4dfc-9c6a-b3852531483e"
      },
      "source": [
        "from torch.utils.data import DataLoader \n",
        "\n",
        "data_loader = DataLoader(train_set, batch_size = 10, shuffle = True)\n",
        "\n",
        "images, labels = next(iter(data_loader))\n",
        "\n",
        "print(images.shape)\n",
        "print(labels.shape)\n",
        "\n",
        "predictions = network(images)\n",
        "\n",
        "print(predictions.argmax(dim = 1))\n",
        "print(labels)\n",
        "\n",
        "# Element wise comparison between labels and predictions\n",
        "# This can be used to calculate accuracy\n",
        "print(predictions.argmax(dim = 1).eq(labels))\n",
        "\n",
        "# Find number of correct predictions\n",
        "# .item() returns the value of a 1x1 tensor (scalar)\n",
        "print(predictions.argmax(dim = 1).eq(labels).sum().item())"
      ],
      "execution_count": 76,
      "outputs": [
        {
          "output_type": "stream",
          "text": [
            "torch.Size([10, 1, 28, 28])\n",
            "torch.Size([10])\n",
            "tensor([8, 8, 8, 8, 8, 8, 8, 8, 8, 8])\n",
            "tensor([8, 7, 0, 8, 2, 1, 8, 7, 6, 1])\n",
            "tensor([1, 0, 0, 1, 0, 0, 1, 0, 0, 0], dtype=torch.uint8)\n",
            "3\n"
          ],
          "name": "stdout"
        }
      ]
    },
    {
      "cell_type": "markdown",
      "metadata": {
        "id": "A-aJzrZ9vutD",
        "colab_type": "text"
      },
      "source": [
        "## Training"
      ]
    },
    {
      "cell_type": "code",
      "metadata": {
        "id": "FUf0femkv0fI",
        "colab_type": "code",
        "colab": {
          "base_uri": "https://localhost:8080/",
          "height": 35
        },
        "outputId": "0d267766-7d4e-4e51-a1ac-0412ee37f09e"
      },
      "source": [
        "# turn on computation graph\n",
        "torch.set_grad_enabled(True)\n",
        "\n",
        "train_loader = DataLoader(train_set, batch_size = 1000, shuffle = True)\n",
        "\n",
        "images, labels = next(iter(train_loader))\n",
        "\n",
        "preds = network(images)\n",
        "\n",
        "# defining the loss function\n",
        "loss = F.cross_entropy(preds, labels)\n",
        "\n",
        "print('Loss before Training: {}'.format(loss.item()))\n",
        "\n",
        "# define a function to find the number of correct predictions\n",
        "def correct_predictions(pred, label):\n",
        "    return pred.argmax(dim = 1).eq(label).sum().item()"
      ],
      "execution_count": 77,
      "outputs": [
        {
          "output_type": "stream",
          "text": [
            "Loss before Training: 2.3105945587158203\n"
          ],
          "name": "stdout"
        }
      ]
    },
    {
      "cell_type": "markdown",
      "metadata": {
        "id": "XntIxex70R2W",
        "colab_type": "text"
      },
      "source": [
        "### Calculating the Gradients\n",
        "The computation graph is then used by PyTorch to calculate the gradients of the loss function with respect to the network's weights. The gradients are tensors that are accessible in the grad (short for gradient) attribute of the weight tensor of each layer."
      ]
    },
    {
      "cell_type": "code",
      "metadata": {
        "id": "5g0GodMF0TZ_",
        "colab_type": "code",
        "colab": {
          "base_uri": "https://localhost:8080/",
          "height": 52
        },
        "outputId": "56d5c28a-0650-4aea-8df7-97ed1ff2a2a1"
      },
      "source": [
        "# since we have not calculated the gradients yet, they are none\n",
        "print(network.conv1.weight.grad)\n",
        "\n",
        "# To calculate the gradients, we call the backward() method on the loss tensor, like so:\n",
        "loss.backward()\n",
        "\n",
        "# print the shape of the gradients of conv1\n",
        "print(network.conv1.weight.grad.shape)"
      ],
      "execution_count": 78,
      "outputs": [
        {
          "output_type": "stream",
          "text": [
            "None\n",
            "torch.Size([6, 1, 5, 5])\n"
          ],
          "name": "stdout"
        }
      ]
    },
    {
      "cell_type": "markdown",
      "metadata": {
        "id": "yFUd0HLe1vQI",
        "colab_type": "text"
      },
      "source": [
        "### Updating the weights (optimize)\n",
        "These gradients are used by the optimizer to update the respective weights. To create our optimizer, we use the torch.optim package that has many optimization algorithm implementations that we can use. We'll use Adam for our example."
      ]
    },
    {
      "cell_type": "code",
      "metadata": {
        "id": "4joLQMfv15ZA",
        "colab_type": "code",
        "colab": {}
      },
      "source": [
        "# create an instance of Adam optimizer\n",
        "# we are passing network.parameters() as it contains all the network's variables\n",
        "optimizer = optim.Adam(network.parameters(), lr=0.01)\n",
        "\n",
        "# Updating the weights\n",
        "optimizer.step()"
      ],
      "execution_count": 0,
      "outputs": []
    },
    {
      "cell_type": "markdown",
      "metadata": {
        "id": "1kXaBO9U2cCb",
        "colab_type": "text"
      },
      "source": [
        "When the step() function is called, the optimizer updates the weights using the gradients that are stored in the network's parameters. This means that we should expect our loss to be reduced if we pass the same batch through the network again. Checking this, we can see that this is indeed the case:"
      ]
    },
    {
      "cell_type": "code",
      "metadata": {
        "id": "MWMM6rfg2dW8",
        "colab_type": "code",
        "colab": {
          "base_uri": "https://localhost:8080/",
          "height": 52
        },
        "outputId": "7e1909fe-70ef-48b8-b2ed-66d51a41f8d8"
      },
      "source": [
        "preds = network(images)\n",
        "\n",
        "# defining the loss function\n",
        "loss = F.cross_entropy(preds, labels)\n",
        "\n",
        "print('Loss after 1 step of optimization: {}'.format(loss.item()))\n",
        "\n",
        "print(correct_predictions(preds, labels))"
      ],
      "execution_count": 80,
      "outputs": [
        {
          "output_type": "stream",
          "text": [
            "Loss after 1 step of optimization: 2.2929439544677734\n",
            "94\n"
          ],
          "name": "stdout"
        }
      ]
    },
    {
      "cell_type": "markdown",
      "metadata": {
        "id": "-N4yAomn3uO0",
        "colab_type": "text"
      },
      "source": [
        "## Create a training Loop"
      ]
    },
    {
      "cell_type": "code",
      "metadata": {
        "id": "CiMMalhB3z7h",
        "colab_type": "code",
        "colab": {
          "base_uri": "https://localhost:8080/",
          "height": 1751
        },
        "outputId": "f37d0840-480b-4176-de2d-13c53e76b64e"
      },
      "source": [
        "num_epochs = 100\n",
        "\n",
        "train_steps = 1\n",
        "\n",
        "train_loader = DataLoader(train_set, batch_size = 60000, shuffle = True)\n",
        "\n",
        "for epoch in range(num_epochs):\n",
        "    \n",
        "    train_loss = 0\n",
        "    \n",
        "    for step in range(1,train_steps+1):\n",
        "        \n",
        "        images, labels = next(iter(train_loader))\n",
        "        \n",
        "        preds = network(images)\n",
        "        \n",
        "        correct_preds = correct_predictions(preds, labels)\n",
        "        \n",
        "        train_loss_step = F.cross_entropy(preds, labels)\n",
        "        \n",
        "        optimizer = optim.Adam(network.parameters(), lr = 0.001)\n",
        "        \n",
        "        # clear all the gradients before calculating the gradients\n",
        "        optimizer.zero_grad()\n",
        "        \n",
        "        # calculate the gradients\n",
        "        train_loss_step.backward()\n",
        "        \n",
        "        # update the parameters\n",
        "        optimizer.step()\n",
        "        \n",
        "        train_loss += train_loss_step\n",
        "        \n",
        "    train_loss /= train_steps\n",
        "    print('Epoch: {}   Train Loss: {}  Correct Predictions: {}/60000'.format(epoch,train_loss, correct_preds))"
      ],
      "execution_count": 83,
      "outputs": [
        {
          "output_type": "stream",
          "text": [
            "Epoch: 0   Train Loss: 1.7009385824203491  Correct Predictions: 17929/60000\n",
            "Epoch: 1   Train Loss: 1.5319856405258179  Correct Predictions: 24268/60000\n",
            "Epoch: 2   Train Loss: 1.4026206731796265  Correct Predictions: 29690/60000\n",
            "Epoch: 3   Train Loss: 1.310050368309021  Correct Predictions: 33500/60000\n",
            "Epoch: 4   Train Loss: 1.2438098192214966  Correct Predictions: 35518/60000\n",
            "Epoch: 5   Train Loss: 1.1926342248916626  Correct Predictions: 36122/60000\n",
            "Epoch: 6   Train Loss: 1.148433804512024  Correct Predictions: 36413/60000\n",
            "Epoch: 7   Train Loss: 1.109778881072998  Correct Predictions: 36622/60000\n",
            "Epoch: 8   Train Loss: 1.0771751403808594  Correct Predictions: 37350/60000\n",
            "Epoch: 9   Train Loss: 1.0466846227645874  Correct Predictions: 37405/60000\n",
            "Epoch: 10   Train Loss: 1.0298590660095215  Correct Predictions: 38023/60000\n",
            "Epoch: 11   Train Loss: 1.017913579940796  Correct Predictions: 37535/60000\n",
            "Epoch: 12   Train Loss: 1.0118286609649658  Correct Predictions: 38213/60000\n",
            "Epoch: 13   Train Loss: 1.002448320388794  Correct Predictions: 37729/60000\n",
            "Epoch: 14   Train Loss: 0.996250569820404  Correct Predictions: 38530/60000\n",
            "Epoch: 15   Train Loss: 0.9886884689331055  Correct Predictions: 37868/60000\n",
            "Epoch: 16   Train Loss: 0.982962429523468  Correct Predictions: 38789/60000\n",
            "Epoch: 17   Train Loss: 0.9765332937240601  Correct Predictions: 38031/60000\n",
            "Epoch: 18   Train Loss: 0.9708585143089294  Correct Predictions: 38981/60000\n",
            "Epoch: 19   Train Loss: 0.9648634195327759  Correct Predictions: 38217/60000\n",
            "Epoch: 20   Train Loss: 0.9592260122299194  Correct Predictions: 39191/60000\n",
            "Epoch: 21   Train Loss: 0.9537045359611511  Correct Predictions: 38397/60000\n",
            "Epoch: 22   Train Loss: 0.9477405548095703  Correct Predictions: 39427/60000\n",
            "Epoch: 23   Train Loss: 0.9428380131721497  Correct Predictions: 38595/60000\n",
            "Epoch: 24   Train Loss: 0.9376522898674011  Correct Predictions: 39607/60000\n",
            "Epoch: 25   Train Loss: 0.9328778386116028  Correct Predictions: 38685/60000\n",
            "Epoch: 26   Train Loss: 0.9284793138504028  Correct Predictions: 39841/60000\n",
            "Epoch: 27   Train Loss: 0.9240691661834717  Correct Predictions: 38944/60000\n",
            "Epoch: 28   Train Loss: 0.9199169874191284  Correct Predictions: 40049/60000\n",
            "Epoch: 29   Train Loss: 0.915885865688324  Correct Predictions: 39129/60000\n",
            "Epoch: 30   Train Loss: 0.9121277928352356  Correct Predictions: 40229/60000\n",
            "Epoch: 31   Train Loss: 0.9085227847099304  Correct Predictions: 39238/60000\n",
            "Epoch: 32   Train Loss: 0.904829740524292  Correct Predictions: 40417/60000\n",
            "Epoch: 33   Train Loss: 0.9017723798751831  Correct Predictions: 39282/60000\n",
            "Epoch: 34   Train Loss: 0.8982647657394409  Correct Predictions: 40599/60000\n",
            "Epoch: 35   Train Loss: 0.8954499363899231  Correct Predictions: 39387/60000\n",
            "Epoch: 36   Train Loss: 0.8920877575874329  Correct Predictions: 40775/60000\n",
            "Epoch: 37   Train Loss: 0.889321506023407  Correct Predictions: 39562/60000\n",
            "Epoch: 38   Train Loss: 0.8859406113624573  Correct Predictions: 40937/60000\n",
            "Epoch: 39   Train Loss: 0.8833475112915039  Correct Predictions: 39686/60000\n",
            "Epoch: 40   Train Loss: 0.8802754282951355  Correct Predictions: 41091/60000\n",
            "Epoch: 41   Train Loss: 0.8775844573974609  Correct Predictions: 39817/60000\n",
            "Epoch: 42   Train Loss: 0.8744677901268005  Correct Predictions: 41257/60000\n",
            "Epoch: 43   Train Loss: 0.8719068765640259  Correct Predictions: 39911/60000\n",
            "Epoch: 44   Train Loss: 0.8688622117042542  Correct Predictions: 41398/60000\n",
            "Epoch: 45   Train Loss: 0.8664324879646301  Correct Predictions: 40041/60000\n",
            "Epoch: 46   Train Loss: 0.8633260130882263  Correct Predictions: 41518/60000\n",
            "Epoch: 47   Train Loss: 0.8610029220581055  Correct Predictions: 40229/60000\n",
            "Epoch: 48   Train Loss: 0.8578129410743713  Correct Predictions: 41691/60000\n",
            "Epoch: 49   Train Loss: 0.8556075096130371  Correct Predictions: 40316/60000\n",
            "Epoch: 50   Train Loss: 0.8523201942443848  Correct Predictions: 41873/60000\n",
            "Epoch: 51   Train Loss: 0.8504208922386169  Correct Predictions: 40428/60000\n",
            "Epoch: 52   Train Loss: 0.84707111120224  Correct Predictions: 41998/60000\n",
            "Epoch: 53   Train Loss: 0.8453168869018555  Correct Predictions: 40562/60000\n",
            "Epoch: 54   Train Loss: 0.8418681025505066  Correct Predictions: 42120/60000\n",
            "Epoch: 55   Train Loss: 0.8403735756874084  Correct Predictions: 40662/60000\n",
            "Epoch: 56   Train Loss: 0.8368378281593323  Correct Predictions: 42197/60000\n",
            "Epoch: 57   Train Loss: 0.8354639410972595  Correct Predictions: 40795/60000\n",
            "Epoch: 58   Train Loss: 0.8318471312522888  Correct Predictions: 42303/60000\n",
            "Epoch: 59   Train Loss: 0.8306464552879333  Correct Predictions: 40865/60000\n",
            "Epoch: 60   Train Loss: 0.826982855796814  Correct Predictions: 42408/60000\n",
            "Epoch: 61   Train Loss: 0.8260117769241333  Correct Predictions: 40946/60000\n",
            "Epoch: 62   Train Loss: 0.8222025632858276  Correct Predictions: 42528/60000\n",
            "Epoch: 63   Train Loss: 0.821377694606781  Correct Predictions: 41024/60000\n",
            "Epoch: 64   Train Loss: 0.817513644695282  Correct Predictions: 42643/60000\n",
            "Epoch: 65   Train Loss: 0.8168363571166992  Correct Predictions: 41149/60000\n",
            "Epoch: 66   Train Loss: 0.8129048943519592  Correct Predictions: 42730/60000\n",
            "Epoch: 67   Train Loss: 0.8123173117637634  Correct Predictions: 41245/60000\n",
            "Epoch: 68   Train Loss: 0.8080856800079346  Correct Predictions: 42835/60000\n",
            "Epoch: 69   Train Loss: 0.8078861832618713  Correct Predictions: 41338/60000\n",
            "Epoch: 70   Train Loss: 0.8032934665679932  Correct Predictions: 42919/60000\n",
            "Epoch: 71   Train Loss: 0.803342878818512  Correct Predictions: 41440/60000\n",
            "Epoch: 72   Train Loss: 0.7985828518867493  Correct Predictions: 43003/60000\n",
            "Epoch: 73   Train Loss: 0.7989386916160583  Correct Predictions: 41526/60000\n",
            "Epoch: 74   Train Loss: 0.7940739989280701  Correct Predictions: 43093/60000\n",
            "Epoch: 75   Train Loss: 0.7946702837944031  Correct Predictions: 41643/60000\n",
            "Epoch: 76   Train Loss: 0.7896662950515747  Correct Predictions: 43143/60000\n",
            "Epoch: 77   Train Loss: 0.7904744148254395  Correct Predictions: 41746/60000\n",
            "Epoch: 78   Train Loss: 0.7856101393699646  Correct Predictions: 43198/60000\n",
            "Epoch: 79   Train Loss: 0.7864509224891663  Correct Predictions: 41802/60000\n",
            "Epoch: 80   Train Loss: 0.7812819480895996  Correct Predictions: 43261/60000\n",
            "Epoch: 81   Train Loss: 0.7824410200119019  Correct Predictions: 41896/60000\n",
            "Epoch: 82   Train Loss: 0.7771627306938171  Correct Predictions: 43331/60000\n",
            "Epoch: 83   Train Loss: 0.7784962058067322  Correct Predictions: 41941/60000\n",
            "Epoch: 84   Train Loss: 0.7731112241744995  Correct Predictions: 43392/60000\n",
            "Epoch: 85   Train Loss: 0.7746340036392212  Correct Predictions: 42036/60000\n",
            "Epoch: 86   Train Loss: 0.7694585919380188  Correct Predictions: 43447/60000\n",
            "Epoch: 87   Train Loss: 0.7709500193595886  Correct Predictions: 42092/60000\n",
            "Epoch: 88   Train Loss: 0.7655391097068787  Correct Predictions: 43517/60000\n",
            "Epoch: 89   Train Loss: 0.7674016952514648  Correct Predictions: 41916/60000\n",
            "Epoch: 90   Train Loss: 0.761959969997406  Correct Predictions: 43550/60000\n",
            "Epoch: 91   Train Loss: 0.7636491060256958  Correct Predictions: 41883/60000\n",
            "Epoch: 92   Train Loss: 0.7579545974731445  Correct Predictions: 43585/60000\n",
            "Epoch: 93   Train Loss: 0.7597571015357971  Correct Predictions: 41960/60000\n",
            "Epoch: 94   Train Loss: 0.7540513277053833  Correct Predictions: 43640/60000\n",
            "Epoch: 95   Train Loss: 0.7560209035873413  Correct Predictions: 41999/60000\n",
            "Epoch: 96   Train Loss: 0.750373899936676  Correct Predictions: 43697/60000\n",
            "Epoch: 97   Train Loss: 0.7523358464241028  Correct Predictions: 42079/60000\n",
            "Epoch: 98   Train Loss: 0.7467381358146667  Correct Predictions: 43736/60000\n",
            "Epoch: 99   Train Loss: 0.7487431168556213  Correct Predictions: 42166/60000\n"
          ],
          "name": "stdout"
        }
      ]
    }
  ]
}